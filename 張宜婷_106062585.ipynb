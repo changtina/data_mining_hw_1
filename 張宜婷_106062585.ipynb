{
 "cells": [
  {
   "cell_type": "markdown",
   "metadata": {},
   "source": [
    "# Student Information\n",
    "Name: 張宜婷 \n",
    "ID: 106062585"
   ]
  },
  {
   "cell_type": "code",
   "execution_count": 1,
   "metadata": {
    "collapsed": true
   },
   "outputs": [],
   "source": [
    "import pandas as pd\n",
    "import numpy as np\n",
    "import nltk\n",
    "from sklearn.feature_extraction.text import CountVectorizer\n",
    "import plotly.plotly as py\n",
    "import plotly.graph_objs as go\n",
    "import math\n",
    "import matplotlib.pyplot as plt\n",
    "import helpers.data_mining_helpers as dmh\n",
    "import helpers.text_analysis as ta"
   ]
  },
  {
   "cell_type": "code",
   "execution_count": 2,
   "metadata": {
    "collapsed": true
   },
   "outputs": [],
   "source": [
    "def tokenize_text(text, remove_stopwords=False):\n",
    "    \"\"\" Tokenize text using the nltk library \"\"\"\n",
    "    tokens = []\n",
    "    for d in nltk.sent_tokenize(text, language='english'):\n",
    "        for word in nltk.word_tokenize(d, language='english'):\n",
    "            # filters here\n",
    "            tokens.append(word)\n",
    "    return tokens\n",
    "\n",
    "def check_missing_values(row):\n",
    "    \"\"\" functions that check and verifies if there are missing values in dataframe \"\"\"\n",
    "    counter = 0\n",
    "    for element in row:\n",
    "        if element == True:\n",
    "            counter+=1\n",
    "    return (\"The amoung of missing records is: \", counter)"
   ]
  },
  {
   "cell_type": "markdown",
   "metadata": {},
   "source": [
    "### 1. Data Preparation "
   ]
  },
  {
   "cell_type": "code",
   "execution_count": 3,
   "metadata": {
    "collapsed": true
   },
   "outputs": [],
   "source": [
    "# three dataset \n",
    "dataset_list = ['yelp', 'imdb', 'amazon_cells']"
   ]
  },
  {
   "cell_type": "code",
   "execution_count": 4,
   "metadata": {
    "collapsed": true
   },
   "outputs": [],
   "source": [
    "# Directly load dataset into Pandas Dataframe\n",
    "path_name = 'sentiment labelled sentences/'\n",
    "df = {}\n",
    "for name in dataset_list:\n",
    "    txt_name = path_name + name + '_labelled.txt'\n",
    "    df[name] = pd.read_csv(txt_name, delimiter='\\t', names=['text', 'label'])    "
   ]
  },
  {
   "cell_type": "code",
   "execution_count": null,
   "metadata": {
    "collapsed": true
   },
   "outputs": [],
   "source": []
  },
  {
   "cell_type": "markdown",
   "metadata": {
    "collapsed": true
   },
   "source": [
    "data size"
   ]
  },
  {
   "cell_type": "code",
   "execution_count": 5,
   "metadata": {},
   "outputs": [
    {
     "name": "stdout",
     "output_type": "stream",
     "text": [
      "len of dataset yelp : 1000\n",
      "len of dataset imdb : 748\n",
      "len of dataset amazon_cells : 1000\n"
     ]
    }
   ],
   "source": [
    "for name in dataset_list:\n",
    "      print('len of dataset', name, ':', len(df[name]))"
   ]
  },
  {
   "cell_type": "markdown",
   "metadata": {},
   "source": [
    "dataset overview"
   ]
  },
  {
   "cell_type": "code",
   "execution_count": 6,
   "metadata": {},
   "outputs": [
    {
     "name": "stdout",
     "output_type": "stream",
     "text": [
      "\n",
      "dataset yelp\n",
      "                                                text  label\n",
      "0                           Wow... Loved this place.      1\n",
      "1                                 Crust is not good.      0\n",
      "2          Not tasty and the texture was just nasty.      0\n",
      "3  Stopped by during the late May bank holiday of...      1\n",
      "4  The selection on the menu was great and so wer...      1\n",
      "\n",
      "dataset imdb\n",
      "                                                text  label\n",
      "0  A very, very, very slow-moving, aimless movie ...      0\n",
      "1  Not sure who was more lost - the flat characte...      0\n",
      "2  Attempting artiness with black & white and cle...      0\n",
      "3       Very little music or anything to speak of.        0\n",
      "4  The best scene in the movie was when Gerardo i...      1\n",
      "\n",
      "dataset amazon_cells\n",
      "                                                text  label\n",
      "0  So there is no way for me to plug it in here i...      0\n",
      "1                        Good case, Excellent value.      1\n",
      "2                             Great for the jawbone.      1\n",
      "3  Tied to charger for conversations lasting more...      0\n",
      "4                                  The mic is great.      1\n"
     ]
    }
   ],
   "source": [
    "for name in dataset_list:\n",
    "    print('\\ndataset', name)\n",
    "    print(df[name][:5]) # show first 5 records"
   ]
  },
  {
   "cell_type": "code",
   "execution_count": 7,
   "metadata": {},
   "outputs": [
    {
     "name": "stdout",
     "output_type": "stream",
     "text": [
      "\n",
      "dataset yelp text\n",
      "                                                text\n",
      "0                           Wow... Loved this place.\n",
      "1                                 Crust is not good.\n",
      "2          Not tasty and the texture was just nasty.\n",
      "3  Stopped by during the late May bank holiday of...\n",
      "4  The selection on the menu was great and so wer...\n",
      "\n",
      "dataset imdb text\n",
      "                                                text\n",
      "0  A very, very, very slow-moving, aimless movie ...\n",
      "1  Not sure who was more lost - the flat characte...\n",
      "2  Attempting artiness with black & white and cle...\n",
      "3       Very little music or anything to speak of.  \n",
      "4  The best scene in the movie was when Gerardo i...\n",
      "\n",
      "dataset amazon_cells text\n",
      "                                                text\n",
      "0  So there is no way for me to plug it in here i...\n",
      "1                        Good case, Excellent value.\n",
      "2                             Great for the jawbone.\n",
      "3  Tied to charger for conversations lasting more...\n",
      "4                                  The mic is great.\n"
     ]
    }
   ],
   "source": [
    "for name in dataset_list:\n",
    "    print('\\ndataset', name, 'text')\n",
    "    print(df[name][:5][['text']]) #show first 5 records of text column"
   ]
  },
  {
   "cell_type": "code",
   "execution_count": 8,
   "metadata": {},
   "outputs": [
    {
     "name": "stdout",
     "output_type": "stream",
     "text": [
      "\n",
      "dataset yelp label\n",
      "   label\n",
      "0      1\n",
      "1      0\n",
      "2      0\n",
      "3      1\n",
      "4      1\n",
      "\n",
      "dataset imdb label\n",
      "   label\n",
      "0      0\n",
      "1      0\n",
      "2      0\n",
      "3      0\n",
      "4      1\n",
      "\n",
      "dataset amazon_cells label\n",
      "   label\n",
      "0      0\n",
      "1      1\n",
      "2      1\n",
      "3      0\n",
      "4      1\n"
     ]
    }
   ],
   "source": [
    "for name in dataset_list:\n",
    "    print('\\ndataset', name, 'label')\n",
    "    print(df[name][:5][['label']]) # show first 5 records of label column"
   ]
  },
  {
   "cell_type": "markdown",
   "metadata": {},
   "source": [
    "last 10 records "
   ]
  },
  {
   "cell_type": "code",
   "execution_count": 9,
   "metadata": {},
   "outputs": [
    {
     "name": "stdout",
     "output_type": "stream",
     "text": [
      "\n",
      "dataset yelp\n",
      "                                                  text  label\n",
      "989  I would avoid this place if you are staying in...      0\n",
      "990  The refried beans that came with my meal were ...      0\n",
      "991         Spend your money and time some place else.      0\n",
      "992  A lady at the table next to us found a live gr...      0\n",
      "993            the presentation of the food was awful.      0\n",
      "994           I can't tell you how disappointed I was.      0\n",
      "995  I think food should have flavor and texture an...      0\n",
      "996                           Appetite instantly gone.      0\n",
      "997  Overall I was not impressed and would not go b...      0\n",
      "998  The whole experience was underwhelming, and I ...      0\n",
      "999  Then, as if I hadn't wasted enough of my life ...      0\n",
      "\n",
      "dataset imdb\n",
      "                                                  text  label\n",
      "737  :) Anyway, the plot flowed smoothly and the ma...      1\n",
      "738  The opening sequence of this gem is a classic,...      1\n",
      "739             Fans of the genre will be in heaven.        1\n",
      "740                Lange had become a great actress.        1\n",
      "741                It looked like a wonderful story.        1\n",
      "742            I never walked out of a movie faster.        0\n",
      "743  I just got bored watching Jessice Lange take h...      0\n",
      "744  Unfortunately, any virtue in this film's produ...      0\n",
      "745                   In a word, it is embarrassing.        0\n",
      "746                               Exceptionally bad!        0\n",
      "747  All in all its an insult to one's intelligence...      0\n",
      "\n",
      "dataset amazon_cells\n",
      "                                                  text  label\n",
      "989  The text messaging feature is really tricky to...      0\n",
      "990  I'm really disappointed all I have now is a ch...      0\n",
      "991                                Painful on the ear.      0\n",
      "992                   Lasted one day and then blew up.      0\n",
      "993                                      disappointed.      0\n",
      "994                              Kind of flops around.      0\n",
      "995  The screen does get smudged easily because it ...      0\n",
      "996  What a piece of junk.. I lose more calls on th...      0\n",
      "997                       Item Does Not Match Picture.      0\n",
      "998  The only thing that disappoint me is the infra...      0\n",
      "999  You can not answer calls with the unit, never ...      0\n"
     ]
    }
   ],
   "source": [
    "for name in dataset_list:\n",
    "    print('\\ndataset', name)\n",
    "    print(df[name][-11:]) # show last 10 records"
   ]
  },
  {
   "cell_type": "code",
   "execution_count": 10,
   "metadata": {},
   "outputs": [
    {
     "name": "stdout",
     "output_type": "stream",
     "text": [
      "\n",
      "dataset yelp\n",
      "                                                 text  label\n",
      "0                            Wow... Loved this place.      1\n",
      "10                           Service was very prompt.      1\n",
      "20                                The Burrittos Blah!      0\n",
      "30  Also there are combos like a burger, fries, an...      1\n",
      "40                       The shrimp tender and moist.      1\n",
      "50  We ordered the duck rare and it was pink and t...      1\n",
      "60  At least think to refill my water before I str...      0\n",
      "70  The deal included 5 tastings and 2 drinks, and...      1\n",
      "80  Coming here is like experiencing an underwhelm...      0\n",
      "90  In summary, this was a largely disappointing d...      0\n",
      "\n",
      "dataset imdb\n",
      "                                                 text  label\n",
      "0   A very, very, very slow-moving, aimless movie ...      0\n",
      "10               And those baby owls were adorable.        1\n",
      "20  This if the first movie I've given a 10 to in ...      1\n",
      "30                      The problem was the script.        0\n",
      "40  Frankly, after Cotton club and Unfaithful, it ...      0\n",
      "50  The directing and the cinematography aren't qu...      0\n",
      "60  The movie had you on the edge of your seat and...      1\n",
      "70  There were several moments in the movie that j...      0\n",
      "80  All the pretty pictures in the world cannot ma...      0\n",
      "90  Also, it's a real treat to see Anthony Quinn p...      1\n",
      "\n",
      "dataset amazon_cells\n",
      "                                                 text  label\n",
      "0   So there is no way for me to plug it in here i...      0\n",
      "10                    And the sound quality is great.      1\n",
      "20  I went on Motorola's website and followed all ...      0\n",
      "30  This is a simple little phone to use, but the ...      0\n",
      "40  It has a great camera thats 2MP, and the pics ...      1\n",
      "50  Not loud enough and doesn't turn on like it sh...      0\n",
      "60  Essentially you can forget Microsoft's tech su...      0\n",
      "70                                  Mic Doesn't work.      0\n",
      "80      I wear it everyday and it holds up very well.      1\n",
      "90  For a product that costs as much as this one d...      0\n"
     ]
    }
   ],
   "source": [
    "for name in dataset_list:\n",
    "    print('\\ndataset', name)\n",
    "    print(df[name].iloc[::10, :][0:10]) # show first 10th records"
   ]
  },
  {
   "cell_type": "markdown",
   "metadata": {},
   "source": [
    "###### Exercise 0: \n",
    "Experiment with other querying techniques using pandas dataframes. Refer to the their documentation for more information."
   ]
  },
  {
   "cell_type": "code",
   "execution_count": 11,
   "metadata": {},
   "outputs": [
    {
     "data": {
      "text/plain": [
       "0                               Wow... Loved this place.\n",
       "1                                     Crust is not good.\n",
       "2              Not tasty and the texture was just nasty.\n",
       "3      Stopped by during the late May bank holiday of...\n",
       "4      The selection on the menu was great and so wer...\n",
       "5         Now I am getting angry and I want my damn pho.\n",
       "6                  Honeslty it didn't taste THAT fresh.)\n",
       "7      The potatoes were like rubber and you could te...\n",
       "8                              The fries were great too.\n",
       "9                                         A great touch.\n",
       "10                              Service was very prompt.\n",
       "11                                    Would not go back.\n",
       "12     The cashier had no care what so ever on what I...\n",
       "13     I tried the Cape Cod ravoli, chicken,with cran...\n",
       "14     I was disgusted because I was pretty sure that...\n",
       "15     I was shocked because no signs indicate cash o...\n",
       "16                                   Highly recommended.\n",
       "17                Waitress was a little slow in service.\n",
       "18     This place is not worth your time, let alone V...\n",
       "19                                  did not like at all.\n",
       "20                                   The Burrittos Blah!\n",
       "21                                    The food, amazing.\n",
       "22                                 Service is also cute.\n",
       "23     I could care less... The interior is just beau...\n",
       "24                                    So they performed.\n",
       "25     That's right....the red velvet cake.....ohhh t...\n",
       "26            - They never brought a salad we asked for.\n",
       "27     This hole in the wall has great Mexican street...\n",
       "28     Took an hour to get our food only 4 tables in ...\n",
       "29                     The worst was the salmon sashimi.\n",
       "                             ...                        \n",
       "970    I immediately said I wanted to talk to the man...\n",
       "971                      The ambiance isn't much better.\n",
       "972    Unfortunately, it only set us up for disapppoi...\n",
       "973                                The food wasn't good.\n",
       "974    Your servers suck, wait, correction, our serve...\n",
       "975        What happened next was pretty....off putting.\n",
       "976    too bad cause I know it's family owned, I real...\n",
       "977                 Overpriced for what you are getting.\n",
       "978                 I vomited in the bathroom mid lunch.\n",
       "979    I kept looking at the time and it had soon bec...\n",
       "980    I have been to very few places to eat that und...\n",
       "981    We started with the tuna sashimi which was bro...\n",
       "982                              Food was below average.\n",
       "983    It sure does beat the nachos at the movies but...\n",
       "984         All in all, Ha Long Bay was a bit of a flop.\n",
       "985    The problem I have is that they charge $11.99 ...\n",
       "986    Shrimp- When I unwrapped it (I live only 1/2 a...\n",
       "987       It lacked flavor, seemed undercooked, and dry.\n",
       "988    It really is impressive that the place hasn't ...\n",
       "989    I would avoid this place if you are staying in...\n",
       "990    The refried beans that came with my meal were ...\n",
       "991           Spend your money and time some place else.\n",
       "992    A lady at the table next to us found a live gr...\n",
       "993              the presentation of the food was awful.\n",
       "994             I can't tell you how disappointed I was.\n",
       "995    I think food should have flavor and texture an...\n",
       "996                             Appetite instantly gone.\n",
       "997    Overall I was not impressed and would not go b...\n",
       "998    The whole experience was underwhelming, and I ...\n",
       "999    Then, as if I hadn't wasted enough of my life ...\n",
       "Name: text, Length: 1000, dtype: object"
      ]
     },
     "execution_count": 11,
     "metadata": {},
     "output_type": "execute_result"
    }
   ],
   "source": [
    "# Select column: df[col]\n",
    "df['yelp']['text']"
   ]
  },
  {
   "cell_type": "code",
   "execution_count": 12,
   "metadata": {},
   "outputs": [
    {
     "data": {
      "text/html": [
       "<div>\n",
       "<style>\n",
       "    .dataframe thead tr:only-child th {\n",
       "        text-align: right;\n",
       "    }\n",
       "\n",
       "    .dataframe thead th {\n",
       "        text-align: left;\n",
       "    }\n",
       "\n",
       "    .dataframe tbody tr th {\n",
       "        vertical-align: top;\n",
       "    }\n",
       "</style>\n",
       "<table border=\"1\" class=\"dataframe\">\n",
       "  <thead>\n",
       "    <tr style=\"text-align: right;\">\n",
       "      <th></th>\n",
       "      <th>text</th>\n",
       "      <th>label</th>\n",
       "    </tr>\n",
       "  </thead>\n",
       "  <tbody>\n",
       "    <tr>\n",
       "      <th>0</th>\n",
       "      <td>Wow... Loved this place.</td>\n",
       "      <td>1</td>\n",
       "    </tr>\n",
       "    <tr>\n",
       "      <th>1</th>\n",
       "      <td>Crust is not good.</td>\n",
       "      <td>0</td>\n",
       "    </tr>\n",
       "  </tbody>\n",
       "</table>\n",
       "</div>"
      ],
      "text/plain": [
       "                       text  label\n",
       "0  Wow... Loved this place.      1\n",
       "1        Crust is not good.      0"
      ]
     },
     "execution_count": 12,
     "metadata": {},
     "output_type": "execute_result"
    }
   ],
   "source": [
    "# Select row by text \n",
    "df['yelp'].loc[df['yelp']['text'].isin(['Crust is not good.','Wow... Loved this place.'])]"
   ]
  },
  {
   "cell_type": "code",
   "execution_count": 13,
   "metadata": {},
   "outputs": [
    {
     "data": {
      "text/plain": [
       "text     The cashier had no care what so ever on what I...\n",
       "label                                                    0\n",
       "Name: 12, dtype: object"
      ]
     },
     "execution_count": 13,
     "metadata": {},
     "output_type": "execute_result"
    }
   ],
   "source": [
    "# Select row by integer location: df.iloc[loc]\n",
    "df['yelp'].iloc[12]"
   ]
  },
  {
   "cell_type": "code",
   "execution_count": 14,
   "metadata": {},
   "outputs": [
    {
     "data": {
      "text/html": [
       "<div>\n",
       "<style>\n",
       "    .dataframe thead tr:only-child th {\n",
       "        text-align: right;\n",
       "    }\n",
       "\n",
       "    .dataframe thead th {\n",
       "        text-align: left;\n",
       "    }\n",
       "\n",
       "    .dataframe tbody tr th {\n",
       "        vertical-align: top;\n",
       "    }\n",
       "</style>\n",
       "<table border=\"1\" class=\"dataframe\">\n",
       "  <thead>\n",
       "    <tr style=\"text-align: right;\">\n",
       "      <th></th>\n",
       "      <th>text</th>\n",
       "      <th>label</th>\n",
       "    </tr>\n",
       "  </thead>\n",
       "  <tbody>\n",
       "    <tr>\n",
       "      <th>0</th>\n",
       "      <td>Wow... Loved this place.</td>\n",
       "      <td>1</td>\n",
       "    </tr>\n",
       "    <tr>\n",
       "      <th>3</th>\n",
       "      <td>Stopped by during the late May bank holiday of...</td>\n",
       "      <td>1</td>\n",
       "    </tr>\n",
       "    <tr>\n",
       "      <th>4</th>\n",
       "      <td>The selection on the menu was great and so wer...</td>\n",
       "      <td>1</td>\n",
       "    </tr>\n",
       "    <tr>\n",
       "      <th>8</th>\n",
       "      <td>The fries were great too.</td>\n",
       "      <td>1</td>\n",
       "    </tr>\n",
       "    <tr>\n",
       "      <th>9</th>\n",
       "      <td>A great touch.</td>\n",
       "      <td>1</td>\n",
       "    </tr>\n",
       "    <tr>\n",
       "      <th>10</th>\n",
       "      <td>Service was very prompt.</td>\n",
       "      <td>1</td>\n",
       "    </tr>\n",
       "    <tr>\n",
       "      <th>13</th>\n",
       "      <td>I tried the Cape Cod ravoli, chicken,with cran...</td>\n",
       "      <td>1</td>\n",
       "    </tr>\n",
       "    <tr>\n",
       "      <th>16</th>\n",
       "      <td>Highly recommended.</td>\n",
       "      <td>1</td>\n",
       "    </tr>\n",
       "    <tr>\n",
       "      <th>21</th>\n",
       "      <td>The food, amazing.</td>\n",
       "      <td>1</td>\n",
       "    </tr>\n",
       "    <tr>\n",
       "      <th>22</th>\n",
       "      <td>Service is also cute.</td>\n",
       "      <td>1</td>\n",
       "    </tr>\n",
       "    <tr>\n",
       "      <th>23</th>\n",
       "      <td>I could care less... The interior is just beau...</td>\n",
       "      <td>1</td>\n",
       "    </tr>\n",
       "    <tr>\n",
       "      <th>24</th>\n",
       "      <td>So they performed.</td>\n",
       "      <td>1</td>\n",
       "    </tr>\n",
       "    <tr>\n",
       "      <th>25</th>\n",
       "      <td>That's right....the red velvet cake.....ohhh t...</td>\n",
       "      <td>1</td>\n",
       "    </tr>\n",
       "    <tr>\n",
       "      <th>27</th>\n",
       "      <td>This hole in the wall has great Mexican street...</td>\n",
       "      <td>1</td>\n",
       "    </tr>\n",
       "    <tr>\n",
       "      <th>30</th>\n",
       "      <td>Also there are combos like a burger, fries, an...</td>\n",
       "      <td>1</td>\n",
       "    </tr>\n",
       "    <tr>\n",
       "      <th>32</th>\n",
       "      <td>I found this place by accident and I could not...</td>\n",
       "      <td>1</td>\n",
       "    </tr>\n",
       "    <tr>\n",
       "      <th>34</th>\n",
       "      <td>Overall, I like this place a lot.</td>\n",
       "      <td>1</td>\n",
       "    </tr>\n",
       "    <tr>\n",
       "      <th>35</th>\n",
       "      <td>The only redeeming quality of the restaurant w...</td>\n",
       "      <td>1</td>\n",
       "    </tr>\n",
       "    <tr>\n",
       "      <th>36</th>\n",
       "      <td>Ample portions and good prices.</td>\n",
       "      <td>1</td>\n",
       "    </tr>\n",
       "    <tr>\n",
       "      <th>38</th>\n",
       "      <td>My first visit to Hiro was a delight!</td>\n",
       "      <td>1</td>\n",
       "    </tr>\n",
       "    <tr>\n",
       "      <th>40</th>\n",
       "      <td>The shrimp tender and moist.</td>\n",
       "      <td>1</td>\n",
       "    </tr>\n",
       "    <tr>\n",
       "      <th>43</th>\n",
       "      <td>On a positive note, our server was very attent...</td>\n",
       "      <td>1</td>\n",
       "    </tr>\n",
       "    <tr>\n",
       "      <th>45</th>\n",
       "      <td>The only thing I did like was the prime rib an...</td>\n",
       "      <td>1</td>\n",
       "    </tr>\n",
       "    <tr>\n",
       "      <th>47</th>\n",
       "      <td>The burger is good beef, cooked just right.</td>\n",
       "      <td>1</td>\n",
       "    </tr>\n",
       "    <tr>\n",
       "      <th>48</th>\n",
       "      <td>If you want a sandwich just go to any Firehous...</td>\n",
       "      <td>1</td>\n",
       "    </tr>\n",
       "    <tr>\n",
       "      <th>49</th>\n",
       "      <td>My side Greek salad with the Greek dressing wa...</td>\n",
       "      <td>1</td>\n",
       "    </tr>\n",
       "    <tr>\n",
       "      <th>50</th>\n",
       "      <td>We ordered the duck rare and it was pink and t...</td>\n",
       "      <td>1</td>\n",
       "    </tr>\n",
       "    <tr>\n",
       "      <th>51</th>\n",
       "      <td>He came running after us when he realized my h...</td>\n",
       "      <td>1</td>\n",
       "    </tr>\n",
       "    <tr>\n",
       "      <th>52</th>\n",
       "      <td>Their chow mein is so good!</td>\n",
       "      <td>1</td>\n",
       "    </tr>\n",
       "    <tr>\n",
       "      <th>54</th>\n",
       "      <td>The portion was huge!</td>\n",
       "      <td>1</td>\n",
       "    </tr>\n",
       "    <tr>\n",
       "      <th>...</th>\n",
       "      <td>...</td>\n",
       "      <td>...</td>\n",
       "    </tr>\n",
       "    <tr>\n",
       "      <th>850</th>\n",
       "      <td>the potatoes were great and so was the biscuit.</td>\n",
       "      <td>1</td>\n",
       "    </tr>\n",
       "    <tr>\n",
       "      <th>852</th>\n",
       "      <td>So flavorful and has just the perfect amount o...</td>\n",
       "      <td>1</td>\n",
       "    </tr>\n",
       "    <tr>\n",
       "      <th>853</th>\n",
       "      <td>The price is reasonable and the service is great.</td>\n",
       "      <td>1</td>\n",
       "    </tr>\n",
       "    <tr>\n",
       "      <th>856</th>\n",
       "      <td>Went in for happy hour, great list of wines.</td>\n",
       "      <td>1</td>\n",
       "    </tr>\n",
       "    <tr>\n",
       "      <th>857</th>\n",
       "      <td>Some may say this buffet is pricey but I think...</td>\n",
       "      <td>1</td>\n",
       "    </tr>\n",
       "    <tr>\n",
       "      <th>860</th>\n",
       "      <td>This place is pretty good, nice little vibe in...</td>\n",
       "      <td>1</td>\n",
       "    </tr>\n",
       "    <tr>\n",
       "      <th>861</th>\n",
       "      <td>Talk about great customer service of course we...</td>\n",
       "      <td>1</td>\n",
       "    </tr>\n",
       "    <tr>\n",
       "      <th>863</th>\n",
       "      <td>I love their fries and their beans.</td>\n",
       "      <td>1</td>\n",
       "    </tr>\n",
       "    <tr>\n",
       "      <th>864</th>\n",
       "      <td>Always a pleasure dealing with him.</td>\n",
       "      <td>1</td>\n",
       "    </tr>\n",
       "    <tr>\n",
       "      <th>865</th>\n",
       "      <td>They have a plethora of salads and sandwiches,...</td>\n",
       "      <td>1</td>\n",
       "    </tr>\n",
       "    <tr>\n",
       "      <th>866</th>\n",
       "      <td>This place is awesome if you want something li...</td>\n",
       "      <td>1</td>\n",
       "    </tr>\n",
       "    <tr>\n",
       "      <th>867</th>\n",
       "      <td>For sushi on the Strip, this is the place to go.</td>\n",
       "      <td>1</td>\n",
       "    </tr>\n",
       "    <tr>\n",
       "      <th>868</th>\n",
       "      <td>The service was great, even the manager came a...</td>\n",
       "      <td>1</td>\n",
       "    </tr>\n",
       "    <tr>\n",
       "      <th>872</th>\n",
       "      <td>All in all an excellent restaurant highlighted...</td>\n",
       "      <td>1</td>\n",
       "    </tr>\n",
       "    <tr>\n",
       "      <th>873</th>\n",
       "      <td>My boyfriend and i sat at the bar and had a co...</td>\n",
       "      <td>1</td>\n",
       "    </tr>\n",
       "    <tr>\n",
       "      <th>877</th>\n",
       "      <td>Go To Place for Gyros.</td>\n",
       "      <td>1</td>\n",
       "    </tr>\n",
       "    <tr>\n",
       "      <th>878</th>\n",
       "      <td>I love the owner/chef, his one authentic Japan...</td>\n",
       "      <td>1</td>\n",
       "    </tr>\n",
       "    <tr>\n",
       "      <th>882</th>\n",
       "      <td>We definately enjoyed ourselves.</td>\n",
       "      <td>1</td>\n",
       "    </tr>\n",
       "    <tr>\n",
       "      <th>888</th>\n",
       "      <td>Seriously killer hot chai latte.</td>\n",
       "      <td>1</td>\n",
       "    </tr>\n",
       "    <tr>\n",
       "      <th>890</th>\n",
       "      <td>My boyfriend tried the Mediterranean Chicken S...</td>\n",
       "      <td>1</td>\n",
       "    </tr>\n",
       "    <tr>\n",
       "      <th>891</th>\n",
       "      <td>Their rotating beers on tap is also a highligh...</td>\n",
       "      <td>1</td>\n",
       "    </tr>\n",
       "    <tr>\n",
       "      <th>894</th>\n",
       "      <td>If you stay in Vegas you must get breakfast he...</td>\n",
       "      <td>1</td>\n",
       "    </tr>\n",
       "    <tr>\n",
       "      <th>895</th>\n",
       "      <td>I want to first say our server was great and w...</td>\n",
       "      <td>1</td>\n",
       "    </tr>\n",
       "    <tr>\n",
       "      <th>896</th>\n",
       "      <td>The pizza selections are good.</td>\n",
       "      <td>1</td>\n",
       "    </tr>\n",
       "    <tr>\n",
       "      <th>897</th>\n",
       "      <td>I had strawberry tea, which was good.</td>\n",
       "      <td>1</td>\n",
       "    </tr>\n",
       "    <tr>\n",
       "      <th>899</th>\n",
       "      <td>Overall, a great experience.</td>\n",
       "      <td>1</td>\n",
       "    </tr>\n",
       "    <tr>\n",
       "      <th>901</th>\n",
       "      <td>Their regular toasted bread was equally satisf...</td>\n",
       "      <td>1</td>\n",
       "    </tr>\n",
       "    <tr>\n",
       "      <th>907</th>\n",
       "      <td>The chips and sals a here is amazing!!!!!!!!!!...</td>\n",
       "      <td>1</td>\n",
       "    </tr>\n",
       "    <tr>\n",
       "      <th>909</th>\n",
       "      <td>This is my new fav Vegas buffet spot.</td>\n",
       "      <td>1</td>\n",
       "    </tr>\n",
       "    <tr>\n",
       "      <th>922</th>\n",
       "      <td>Every time I eat here, I see caring teamwork t...</td>\n",
       "      <td>1</td>\n",
       "    </tr>\n",
       "  </tbody>\n",
       "</table>\n",
       "<p>500 rows × 2 columns</p>\n",
       "</div>"
      ],
      "text/plain": [
       "                                                  text  label\n",
       "0                             Wow... Loved this place.      1\n",
       "3    Stopped by during the late May bank holiday of...      1\n",
       "4    The selection on the menu was great and so wer...      1\n",
       "8                            The fries were great too.      1\n",
       "9                                       A great touch.      1\n",
       "10                            Service was very prompt.      1\n",
       "13   I tried the Cape Cod ravoli, chicken,with cran...      1\n",
       "16                                 Highly recommended.      1\n",
       "21                                  The food, amazing.      1\n",
       "22                               Service is also cute.      1\n",
       "23   I could care less... The interior is just beau...      1\n",
       "24                                  So they performed.      1\n",
       "25   That's right....the red velvet cake.....ohhh t...      1\n",
       "27   This hole in the wall has great Mexican street...      1\n",
       "30   Also there are combos like a burger, fries, an...      1\n",
       "32   I found this place by accident and I could not...      1\n",
       "34                   Overall, I like this place a lot.      1\n",
       "35   The only redeeming quality of the restaurant w...      1\n",
       "36                     Ample portions and good prices.      1\n",
       "38               My first visit to Hiro was a delight!      1\n",
       "40                        The shrimp tender and moist.      1\n",
       "43   On a positive note, our server was very attent...      1\n",
       "45   The only thing I did like was the prime rib an...      1\n",
       "47         The burger is good beef, cooked just right.      1\n",
       "48   If you want a sandwich just go to any Firehous...      1\n",
       "49   My side Greek salad with the Greek dressing wa...      1\n",
       "50   We ordered the duck rare and it was pink and t...      1\n",
       "51   He came running after us when he realized my h...      1\n",
       "52                         Their chow mein is so good!      1\n",
       "54                               The portion was huge!      1\n",
       "..                                                 ...    ...\n",
       "850    the potatoes were great and so was the biscuit.      1\n",
       "852  So flavorful and has just the perfect amount o...      1\n",
       "853  The price is reasonable and the service is great.      1\n",
       "856       Went in for happy hour, great list of wines.      1\n",
       "857  Some may say this buffet is pricey but I think...      1\n",
       "860  This place is pretty good, nice little vibe in...      1\n",
       "861  Talk about great customer service of course we...      1\n",
       "863                I love their fries and their beans.      1\n",
       "864                Always a pleasure dealing with him.      1\n",
       "865  They have a plethora of salads and sandwiches,...      1\n",
       "866  This place is awesome if you want something li...      1\n",
       "867   For sushi on the Strip, this is the place to go.      1\n",
       "868  The service was great, even the manager came a...      1\n",
       "872  All in all an excellent restaurant highlighted...      1\n",
       "873  My boyfriend and i sat at the bar and had a co...      1\n",
       "877                             Go To Place for Gyros.      1\n",
       "878  I love the owner/chef, his one authentic Japan...      1\n",
       "882                   We definately enjoyed ourselves.      1\n",
       "888                   Seriously killer hot chai latte.      1\n",
       "890  My boyfriend tried the Mediterranean Chicken S...      1\n",
       "891  Their rotating beers on tap is also a highligh...      1\n",
       "894  If you stay in Vegas you must get breakfast he...      1\n",
       "895  I want to first say our server was great and w...      1\n",
       "896                     The pizza selections are good.      1\n",
       "897              I had strawberry tea, which was good.      1\n",
       "899                       Overall, a great experience.      1\n",
       "901  Their regular toasted bread was equally satisf...      1\n",
       "907  The chips and sals a here is amazing!!!!!!!!!!...      1\n",
       "909              This is my new fav Vegas buffet spot.      1\n",
       "922  Every time I eat here, I see caring teamwork t...      1\n",
       "\n",
       "[500 rows x 2 columns]"
      ]
     },
     "execution_count": 14,
     "metadata": {},
     "output_type": "execute_result"
    }
   ],
   "source": [
    "# Select rows by boolean vector: df[bool_vec]\n",
    "df['yelp'][df['yelp'].label==1]"
   ]
  },
  {
   "cell_type": "markdown",
   "metadata": {},
   "source": [
    "### 2. Missing values"
   ]
  },
  {
   "cell_type": "markdown",
   "metadata": {},
   "source": [
    "missing value amount"
   ]
  },
  {
   "cell_type": "code",
   "execution_count": 15,
   "metadata": {},
   "outputs": [
    {
     "name": "stdout",
     "output_type": "stream",
     "text": [
      "yelp : 0\n",
      "imdb : 0\n",
      "amazon_cells : 0\n"
     ]
    }
   ],
   "source": [
    "for name in dataset_list:\n",
    "    print(name, ':', sum(df[name].text.isnull()))"
   ]
  },
  {
   "cell_type": "markdown",
   "metadata": {},
   "source": [
    "add missing values"
   ]
  },
  {
   "cell_type": "code",
   "execution_count": 16,
   "metadata": {},
   "outputs": [
    {
     "data": {
      "text/html": [
       "<div>\n",
       "<style>\n",
       "    .dataframe thead tr:only-child th {\n",
       "        text-align: right;\n",
       "    }\n",
       "\n",
       "    .dataframe thead th {\n",
       "        text-align: left;\n",
       "    }\n",
       "\n",
       "    .dataframe tbody tr th {\n",
       "        vertical-align: top;\n",
       "    }\n",
       "</style>\n",
       "<table border=\"1\" class=\"dataframe\">\n",
       "  <thead>\n",
       "    <tr style=\"text-align: right;\">\n",
       "      <th></th>\n",
       "      <th>text</th>\n",
       "      <th>label</th>\n",
       "    </tr>\n",
       "  </thead>\n",
       "  <tbody>\n",
       "    <tr>\n",
       "      <th>992</th>\n",
       "      <td>A lady at the table next to us found a live gr...</td>\n",
       "      <td>0.0</td>\n",
       "    </tr>\n",
       "    <tr>\n",
       "      <th>993</th>\n",
       "      <td>the presentation of the food was awful.</td>\n",
       "      <td>0.0</td>\n",
       "    </tr>\n",
       "    <tr>\n",
       "      <th>994</th>\n",
       "      <td>I can't tell you how disappointed I was.</td>\n",
       "      <td>0.0</td>\n",
       "    </tr>\n",
       "    <tr>\n",
       "      <th>995</th>\n",
       "      <td>I think food should have flavor and texture an...</td>\n",
       "      <td>0.0</td>\n",
       "    </tr>\n",
       "    <tr>\n",
       "      <th>996</th>\n",
       "      <td>Appetite instantly gone.</td>\n",
       "      <td>0.0</td>\n",
       "    </tr>\n",
       "    <tr>\n",
       "      <th>997</th>\n",
       "      <td>Overall I was not impressed and would not go b...</td>\n",
       "      <td>0.0</td>\n",
       "    </tr>\n",
       "    <tr>\n",
       "      <th>998</th>\n",
       "      <td>The whole experience was underwhelming, and I ...</td>\n",
       "      <td>0.0</td>\n",
       "    </tr>\n",
       "    <tr>\n",
       "      <th>999</th>\n",
       "      <td>Then, as if I hadn't wasted enough of my life ...</td>\n",
       "      <td>0.0</td>\n",
       "    </tr>\n",
       "    <tr>\n",
       "      <th>1000</th>\n",
       "      <td>dummy_record</td>\n",
       "      <td>NaN</td>\n",
       "    </tr>\n",
       "    <tr>\n",
       "      <th>1001</th>\n",
       "      <td>NaN</td>\n",
       "      <td>0.0</td>\n",
       "    </tr>\n",
       "  </tbody>\n",
       "</table>\n",
       "</div>"
      ],
      "text/plain": [
       "                                                   text  label\n",
       "992   A lady at the table next to us found a live gr...    0.0\n",
       "993             the presentation of the food was awful.    0.0\n",
       "994            I can't tell you how disappointed I was.    0.0\n",
       "995   I think food should have flavor and texture an...    0.0\n",
       "996                            Appetite instantly gone.    0.0\n",
       "997   Overall I was not impressed and would not go b...    0.0\n",
       "998   The whole experience was underwhelming, and I ...    0.0\n",
       "999   Then, as if I hadn't wasted enough of my life ...    0.0\n",
       "1000                                       dummy_record    NaN\n",
       "1001                                                NaN    0.0"
      ]
     },
     "execution_count": 16,
     "metadata": {},
     "output_type": "execute_result"
    }
   ],
   "source": [
    "dummy_series = pd.Series([\"dummy_record\"], index=[\"text\"]) # create one row in dataframe type without 'label' info\n",
    "result_with_series = df['yelp'].append(dummy_series, ignore_index=True) \n",
    "\n",
    "dummy_series = pd.Series([0], index=[\"label\"]) # create one row in dataframe type without 'text' info\n",
    "result_with_series = result_with_series.append(dummy_series, ignore_index=True)\n",
    "\n",
    "result_with_series[-10:] "
   ]
  },
  {
   "cell_type": "markdown",
   "metadata": {},
   "source": [
    "so, index 1000 and 1001 records I add have missinig values."
   ]
  },
  {
   "cell_type": "markdown",
   "metadata": {},
   "source": [
    "Check missing values again. Aparently, there are two missing value."
   ]
  },
  {
   "cell_type": "code",
   "execution_count": 17,
   "metadata": {},
   "outputs": [
    {
     "data": {
      "text/plain": [
       "text     (The amoung of missing records is: , 1)\n",
       "label    (The amoung of missing records is: , 1)\n",
       "dtype: object"
      ]
     },
     "execution_count": 17,
     "metadata": {},
     "output_type": "execute_result"
    }
   ],
   "source": [
    "result_with_series.isnull().apply(lambda x: check_missing_values(x))"
   ]
  },
  {
   "cell_type": "markdown",
   "metadata": {},
   "source": [
    "Deal with missing value."
   ]
  },
  {
   "cell_type": "code",
   "execution_count": 18,
   "metadata": {},
   "outputs": [
    {
     "name": "stdout",
     "output_type": "stream",
     "text": [
      "1000\n"
     ]
    },
    {
     "data": {
      "text/plain": [
       "text     (The amoung of missing records is: , 0)\n",
       "label    (The amoung of missing records is: , 0)\n",
       "dtype: object"
      ]
     },
     "execution_count": 18,
     "metadata": {},
     "output_type": "execute_result"
    }
   ],
   "source": [
    "result_with_series.dropna(inplace=True) # drop records which have missing values.\n",
    "print(len(result_with_series))\n",
    "result_with_series.isnull().apply(lambda x: check_missing_values(x))"
   ]
  },
  {
   "cell_type": "markdown",
   "metadata": {},
   "source": [
    "#### Exercise 1: \n",
    "Code for how to calculate the missing values for every record instead of every column. Hint axis parameter. \n",
    "Check the documentation for more information."
   ]
  },
  {
   "cell_type": "code",
   "execution_count": 19,
   "metadata": {},
   "outputs": [
    {
     "data": {
      "text/plain": [
       "0      (The amoung of missing records is: , 0)\n",
       "1      (The amoung of missing records is: , 0)\n",
       "2      (The amoung of missing records is: , 0)\n",
       "3      (The amoung of missing records is: , 0)\n",
       "4      (The amoung of missing records is: , 0)\n",
       "5      (The amoung of missing records is: , 0)\n",
       "6      (The amoung of missing records is: , 0)\n",
       "7      (The amoung of missing records is: , 0)\n",
       "8      (The amoung of missing records is: , 0)\n",
       "9      (The amoung of missing records is: , 0)\n",
       "10     (The amoung of missing records is: , 0)\n",
       "11     (The amoung of missing records is: , 0)\n",
       "12     (The amoung of missing records is: , 0)\n",
       "13     (The amoung of missing records is: , 0)\n",
       "14     (The amoung of missing records is: , 0)\n",
       "15     (The amoung of missing records is: , 0)\n",
       "16     (The amoung of missing records is: , 0)\n",
       "17     (The amoung of missing records is: , 0)\n",
       "18     (The amoung of missing records is: , 0)\n",
       "19     (The amoung of missing records is: , 0)\n",
       "20     (The amoung of missing records is: , 0)\n",
       "21     (The amoung of missing records is: , 0)\n",
       "22     (The amoung of missing records is: , 0)\n",
       "23     (The amoung of missing records is: , 0)\n",
       "24     (The amoung of missing records is: , 0)\n",
       "25     (The amoung of missing records is: , 0)\n",
       "26     (The amoung of missing records is: , 0)\n",
       "27     (The amoung of missing records is: , 0)\n",
       "28     (The amoung of missing records is: , 0)\n",
       "29     (The amoung of missing records is: , 0)\n",
       "                        ...                   \n",
       "970    (The amoung of missing records is: , 0)\n",
       "971    (The amoung of missing records is: , 0)\n",
       "972    (The amoung of missing records is: , 0)\n",
       "973    (The amoung of missing records is: , 0)\n",
       "974    (The amoung of missing records is: , 0)\n",
       "975    (The amoung of missing records is: , 0)\n",
       "976    (The amoung of missing records is: , 0)\n",
       "977    (The amoung of missing records is: , 0)\n",
       "978    (The amoung of missing records is: , 0)\n",
       "979    (The amoung of missing records is: , 0)\n",
       "980    (The amoung of missing records is: , 0)\n",
       "981    (The amoung of missing records is: , 0)\n",
       "982    (The amoung of missing records is: , 0)\n",
       "983    (The amoung of missing records is: , 0)\n",
       "984    (The amoung of missing records is: , 0)\n",
       "985    (The amoung of missing records is: , 0)\n",
       "986    (The amoung of missing records is: , 0)\n",
       "987    (The amoung of missing records is: , 0)\n",
       "988    (The amoung of missing records is: , 0)\n",
       "989    (The amoung of missing records is: , 0)\n",
       "990    (The amoung of missing records is: , 0)\n",
       "991    (The amoung of missing records is: , 0)\n",
       "992    (The amoung of missing records is: , 0)\n",
       "993    (The amoung of missing records is: , 0)\n",
       "994    (The amoung of missing records is: , 0)\n",
       "995    (The amoung of missing records is: , 0)\n",
       "996    (The amoung of missing records is: , 0)\n",
       "997    (The amoung of missing records is: , 0)\n",
       "998    (The amoung of missing records is: , 0)\n",
       "999    (The amoung of missing records is: , 0)\n",
       "Length: 1000, dtype: object"
      ]
     },
     "execution_count": 19,
     "metadata": {},
     "output_type": "execute_result"
    }
   ],
   "source": [
    "#use 'axis' parameter to get missing values for every records\n",
    "df['yelp'].isnull().apply(lambda x: check_missing_values(x), axis=1)"
   ]
  },
  {
   "cell_type": "markdown",
   "metadata": {},
   "source": [
    "###  3. Dealing with Duplicate Data\n",
    "duplicated amount"
   ]
  },
  {
   "cell_type": "code",
   "execution_count": 20,
   "metadata": {},
   "outputs": [
    {
     "name": "stdout",
     "output_type": "stream",
     "text": [
      "yelp : 4\n",
      "imdb : 3\n",
      "amazon_cells : 10\n"
     ]
    }
   ],
   "source": [
    "for name in dataset_list:\n",
    "    print(name, ':', sum(df[name].text.duplicated()))"
   ]
  },
  {
   "cell_type": "markdown",
   "metadata": {},
   "source": [
    "show duplicated data"
   ]
  },
  {
   "cell_type": "code",
   "execution_count": 21,
   "metadata": {},
   "outputs": [
    {
     "name": "stdout",
     "output_type": "stream",
     "text": [
      "\n",
      "dataset yelp\n",
      "                                  text  label\n",
      "814                 I love this place.      1\n",
      "816             The food was terrible.      0\n",
      "843                   I won't be back.      0\n",
      "846  I would not recommend this place.      0\n",
      "\n",
      "dataset imdb\n",
      "                                 text  label\n",
      "165  Definitely worth checking out.        1\n",
      "387                Not recommended.        0\n",
      "590                           10/10        1\n",
      "\n",
      "dataset amazon_cells\n",
      "                                                  text  label\n",
      "285                                      Great phone!.      1\n",
      "407                                       Works great.      1\n",
      "524                                      Works great!.      1\n",
      "543                            Don't buy this product.      0\n",
      "744  If you like a loud buzzing to override all you...      0\n",
      "748                                      Does not fit.      0\n",
      "778                              This is a great deal.      1\n",
      "792                                       Great Phone.      1\n",
      "892                   Excellent product for the price.      1\n",
      "896                                       Great phone.      1\n"
     ]
    }
   ],
   "source": [
    "for name in dataset_list:\n",
    "    print('\\ndataset', name)\n",
    "    dataset = df[name]\n",
    "    print(dataset[dataset.text.duplicated()]) "
   ]
  },
  {
   "cell_type": "markdown",
   "metadata": {},
   "source": [
    "count times of every duplicated sentence."
   ]
  },
  {
   "cell_type": "code",
   "execution_count": 22,
   "metadata": {},
   "outputs": [
    {
     "name": "stdout",
     "output_type": "stream",
     "text": [
      "\n",
      "dataset: yelp\n",
      "                                  text  label\n",
      "334                 I love this place.      1\n",
      "380                   I won't be back.      0\n",
      "383             The food was terrible.      0\n",
      "505  I would not recommend this place.      0\n",
      "814                 I love this place.      1\n",
      "816             The food was terrible.      0\n",
      "843                   I won't be back.      0\n",
      "846  I would not recommend this place.      0\n",
      "(text, times)\n",
      "I love this place. 2\n",
      "The food was terrible. 2\n",
      "I won't be back. 2\n",
      "I would not recommend this place. 2\n",
      "\n",
      "dataset: imdb\n",
      "                                 text  label\n",
      "29   Definitely worth checking out.        1\n",
      "64                            10/10        1\n",
      "165  Definitely worth checking out.        1\n",
      "374                Not recommended.        0\n",
      "387                Not recommended.        0\n",
      "590                           10/10        1\n",
      "(text, times)\n",
      "Definitely worth checking out.   2\n",
      "Not recommended.   2\n",
      "10/10   2\n",
      "\n",
      "dataset: amazon_cells\n",
      "                                                  text  label\n",
      "18                                       Works great!.      1\n",
      "179  If you like a loud buzzing to override all you...      0\n",
      "180                            Don't buy this product.      0\n",
      "187                                      Great phone!.      1\n",
      "262                                       Works great.      1\n",
      "285                                      Great phone!.      1\n",
      "290                                       Great Phone.      1\n",
      "392                              This is a great deal.      1\n",
      "402                   Excellent product for the price.      1\n",
      "407                                       Works great.      1\n",
      "446                                      Does not fit.      0\n",
      "524                                      Works great!.      1\n",
      "543                            Don't buy this product.      0\n",
      "647                                       Great phone.      1\n",
      "744  If you like a loud buzzing to override all you...      0\n",
      "748                                      Does not fit.      0\n",
      "778                              This is a great deal.      1\n",
      "792                                       Great Phone.      1\n",
      "892                   Excellent product for the price.      1\n",
      "896                                       Great phone.      1\n",
      "(text, times)\n",
      "Great phone!. 2\n",
      "Works great. 2\n",
      "Works great!. 2\n",
      "Don't buy this product. 2\n",
      "If you like a loud buzzing to override all your conversations, then this phone is for you! 2\n",
      "Does not fit. 2\n",
      "This is a great deal. 2\n",
      "Great Phone. 2\n",
      "Excellent product for the price. 2\n",
      "Great phone. 2\n"
     ]
    }
   ],
   "source": [
    "for name in dataset_list:\n",
    "    print('\\ndataset:', name)\n",
    "    dataset = df[name]\n",
    "    duplicated_text = dataset[dataset.text.duplicated()]\n",
    "    duplicated_text = list(duplicated_text['text']) # convert dataframe to list\n",
    "    print(dataset.loc[dataset['text'].isin(duplicated_text)]) # show every duplicated records.\n",
    "    print('(text, times)')\n",
    "    for text in duplicated_text: \n",
    "        print(text, sum(dataset['text']==text))"
   ]
  },
  {
   "cell_type": "markdown",
   "metadata": {},
   "source": [
    "deal with duplicated records."
   ]
  },
  {
   "cell_type": "code",
   "execution_count": 23,
   "metadata": {},
   "outputs": [
    {
     "name": "stdout",
     "output_type": "stream",
     "text": [
      "\n",
      "dataset: yelp\n",
      "original data size: 1000\n",
      "data size after drop duplicates: 992\n",
      "\n",
      "dataset: imdb\n",
      "original data size: 748\n",
      "data size after drop duplicates: 742\n",
      "\n",
      "dataset: amazon_cells\n",
      "original data size: 1000\n",
      "data size after drop duplicates: 980\n"
     ]
    }
   ],
   "source": [
    "for name in dataset_list:\n",
    "    print('\\ndataset:', name)\n",
    "    print('original data size:', len(df[name]))\n",
    "    df[name].drop_duplicates(keep=False, inplace=True) # drop duplicates\n",
    "    print('data size after drop duplicates:', len(df[name]))"
   ]
  },
  {
   "cell_type": "markdown",
   "metadata": {},
   "source": [
    "### 4.Data preprocessing"
   ]
  },
  {
   "cell_type": "markdown",
   "metadata": {},
   "source": [
    "#### 4.1 sample data"
   ]
  },
  {
   "cell_type": "code",
   "execution_count": 24,
   "metadata": {},
   "outputs": [
    {
     "data": {
      "text/plain": [
       "500"
      ]
     },
     "execution_count": 24,
     "metadata": {},
     "output_type": "execute_result"
    }
   ],
   "source": [
    "# sample 500 records\n",
    "df_sample = df['yelp'].sample(n=500)\n",
    "len(df_sample)"
   ]
  },
  {
   "cell_type": "code",
   "execution_count": 25,
   "metadata": {},
   "outputs": [
    {
     "data": {
      "text/html": [
       "<div>\n",
       "<style>\n",
       "    .dataframe thead tr:only-child th {\n",
       "        text-align: right;\n",
       "    }\n",
       "\n",
       "    .dataframe thead th {\n",
       "        text-align: left;\n",
       "    }\n",
       "\n",
       "    .dataframe tbody tr th {\n",
       "        vertical-align: top;\n",
       "    }\n",
       "</style>\n",
       "<table border=\"1\" class=\"dataframe\">\n",
       "  <thead>\n",
       "    <tr style=\"text-align: right;\">\n",
       "      <th></th>\n",
       "      <th>text</th>\n",
       "      <th>label</th>\n",
       "    </tr>\n",
       "  </thead>\n",
       "  <tbody>\n",
       "    <tr>\n",
       "      <th>558</th>\n",
       "      <td>All of the tapas dishes were delicious!</td>\n",
       "      <td>1</td>\n",
       "    </tr>\n",
       "    <tr>\n",
       "      <th>624</th>\n",
       "      <td>Pretty awesome place.</td>\n",
       "      <td>1</td>\n",
       "    </tr>\n",
       "    <tr>\n",
       "      <th>931</th>\n",
       "      <td>If you want to wait for mediocre food and down...</td>\n",
       "      <td>0</td>\n",
       "    </tr>\n",
       "    <tr>\n",
       "      <th>284</th>\n",
       "      <td>I would definitely recommend the wings as well...</td>\n",
       "      <td>1</td>\n",
       "    </tr>\n",
       "  </tbody>\n",
       "</table>\n",
       "</div>"
      ],
      "text/plain": [
       "                                                  text  label\n",
       "558            All of the tapas dishes were delicious!      1\n",
       "624                              Pretty awesome place.      1\n",
       "931  If you want to wait for mediocre food and down...      0\n",
       "284  I would definitely recommend the wings as well...      1"
      ]
     },
     "execution_count": 25,
     "metadata": {},
     "output_type": "execute_result"
    }
   ],
   "source": [
    "df_sample[0:4]"
   ]
  },
  {
   "cell_type": "code",
   "execution_count": 26,
   "metadata": {},
   "outputs": [
    {
     "data": {
      "text/html": [
       "<iframe id=\"igraph\" scrolling=\"no\" style=\"border:none;\" seamless=\"seamless\" src=\"https://plot.ly/~tinachang/70.embed\" height=\"525px\" width=\"100%\"></iframe>"
      ],
      "text/plain": [
       "<plotly.tools.PlotlyDisplay object>"
      ]
     },
     "execution_count": 26,
     "metadata": {},
     "output_type": "execute_result"
    }
   ],
   "source": [
    "# plot \n",
    "data = [go.Histogram(x = np.array(df_sample.label), xbins = dict(size = 1))]\n",
    "layout = go.Layout(title = 'label distribution of sample data',\n",
    "                   xaxis = dict(title = 'Label'),\n",
    "                   yaxis = dict(title = 'Count', range=[220, 280]),\n",
    "                   bargap = 0.5)\n",
    "fig = go.Figure(data = data, layout = layout)\n",
    "py.iplot(fig, filename = '')"
   ]
  },
  {
   "cell_type": "markdown",
   "metadata": {},
   "source": [
    "##### Exercise 2: \n",
    "We can also do a side by side comparison of the distribution between the two datasets, but maybe you can try that as an excerise. \n",
    "Look at the Plotly documents for tons of examples and ways to visualizing groups bar charts. "
   ]
  },
  {
   "cell_type": "code",
   "execution_count": 27,
   "metadata": {},
   "outputs": [
    {
     "data": {
      "text/html": [
       "<iframe id=\"igraph\" scrolling=\"no\" style=\"border:none;\" seamless=\"seamless\" src=\"https://plot.ly/~tinachang/72.embed\" height=\"525px\" width=\"100%\"></iframe>"
      ],
      "text/plain": [
       "<plotly.tools.PlotlyDisplay object>"
      ]
     },
     "execution_count": 27,
     "metadata": {},
     "output_type": "execute_result"
    }
   ],
   "source": [
    "trace1 = go.Histogram(x = np.array(df[dataset_list[0]].label),\n",
    "                      histnorm = 'count',\n",
    "                      name = 'yelp',\n",
    "                      marker = dict(color = '#39cc6e'),\n",
    "                      opacity = 0.75)\n",
    "trace2 = go.Histogram(x = np.array(df[dataset_list[1]].label),\n",
    "                      name = 'imdb',\n",
    "                      marker = dict(color = '#69db9e'),\n",
    "                      opacity = 0.75)\n",
    "trace3 = go.Histogram(x = np.array(df[dataset_list[2]].label),\n",
    "                      name = 'amazon',\n",
    "                      marker = dict(color = '#8ef2cf'),\n",
    "                      opacity = 0.75)\n",
    "data = [trace1, trace2, trace3]\n",
    "layout = go.Layout(title = 'labels distribution',\n",
    "                   xaxis = dict(title = 'Value'),\n",
    "                   yaxis = dict(title = 'Count'),\n",
    "                   bargap = 0.3,\n",
    "                   bargroupgap = 0.5)\n",
    "fig = go.Figure(data = data, layout=layout)\n",
    "py.iplot(fig, filename = 'styled histogram')"
   ]
  },
  {
   "cell_type": "markdown",
   "metadata": {},
   "source": [
    "I also plot with matplotlib for the same target."
   ]
  },
  {
   "cell_type": "code",
   "execution_count": 28,
   "metadata": {},
   "outputs": [
    {
     "data": {
      "image/png": "[encoded data removed]",
      "text/plain": [
       "<matplotlib.figure.Figure at 0x7f182650df28>"
      ]
     },
     "metadata": {},
     "output_type": "display_data"
    }
   ],
   "source": [
    "df_sample.label.value_counts().plot(kind=\"bar\", rot=0)\n",
    "plt.xlabel('label')\n",
    "plt.ylabel('Count')\n",
    "plt.ylim([220, 270])\n",
    "plt.title('Distribution of Sample Data lebel')\n",
    "plt.show()"
   ]
  },
  {
   "cell_type": "code",
   "execution_count": 29,
   "metadata": {},
   "outputs": [
    {
     "data": {
      "image/png": "[encoded data removed]",
      "text/plain": [
       "<matplotlib.figure.Figure at 0x7f1821ed9898>"
      ]
     },
     "metadata": {},
     "output_type": "display_data"
    }
   ],
   "source": [
    "plt.style.use('seaborn-deep')\n",
    "data =[np.array(df[dataset_list[i]].label) for i, _ in enumerate(dataset_list)]\n",
    "plt.hist(data, bins=2, alpha=0.7, label=[name for name in dataset_list])\n",
    "plt.legend(loc='upper right')\n",
    "plt.xlabel('label')\n",
    "plt.ylabel('Count')\n",
    "plt.show()"
   ]
  },
  {
   "cell_type": "markdown",
   "metadata": {},
   "source": [
    "#### 4.2 Feature Creation"
   ]
  },
  {
   "cell_type": "markdown",
   "metadata": {},
   "source": [
    "tokenize by nltk"
   ]
  },
  {
   "cell_type": "code",
   "execution_count": 30,
   "metadata": {},
   "outputs": [
    {
     "name": "stdout",
     "output_type": "stream",
     "text": [
      "\n",
      "dataset: yelp\n",
      "                                            unigrams\n",
      "0                  [Wow, ..., Loved, this, place, .]\n",
      "1                          [Crust, is, not, good, .]\n",
      "2  [Not, tasty, and, the, texture, was, just, nas...\n",
      "3  [Stopped, by, during, the, late, May, bank, ho...\n",
      "4  [The, selection, on, the, menu, was, great, an...\n",
      "5  [Now, I, am, getting, angry, and, I, want, my,...\n",
      "6  [Honeslty, it, did, n't, taste, THAT, fresh, ....\n",
      "7  [The, potatoes, were, like, rubber, and, you, ...\n",
      "8                  [The, fries, were, great, too, .]\n",
      "9                               [A, great, touch, .]\n",
      "\n",
      "dataset: imdb\n",
      "                                            unigrams\n",
      "0  [A, very, ,, very, ,, very, slow-moving, ,, ai...\n",
      "1  [Not, sure, who, was, more, lost, -, the, flat...\n",
      "2  [Attempting, artiness, with, black, &, white, ...\n",
      "3  [Very, little, music, or, anything, to, speak,...\n",
      "4  [The, best, scene, in, the, movie, was, when, ...\n",
      "5  [The, rest, of, the, movie, lacks, art, ,, cha...\n",
      "6                            [Wasted, two, hours, .]\n",
      "7  [Saw, the, movie, today, and, thought, it, was...\n",
      "8                           [A, bit, predictable, .]\n",
      "9  [Loved, the, casting, of, Jimmy, Buffet, as, t...\n",
      "\n",
      "dataset: amazon_cells\n",
      "                                            unigrams\n",
      "0  [So, there, is, no, way, for, me, to, plug, it...\n",
      "1               [Good, case, ,, Excellent, value, .]\n",
      "2                      [Great, for, the, jawbone, .]\n",
      "3  [Tied, to, charger, for, conversations, lastin...\n",
      "4                           [The, mic, is, great, .]\n",
      "5  [I, have, to, jiggle, the, plug, to, get, it, ...\n",
      "6  [If, you, have, several, dozen, or, several, h...\n",
      "7  [If, you, are, Razr, owner, ..., you, must, ha...\n",
      "8    [Needless, to, say, ,, I, wasted, my, money, .]\n",
      "9       [What, a, waste, of, money, and, time, !, .]\n"
     ]
    }
   ],
   "source": [
    "# tokenize text by space\n",
    "for name in dataset_list:\n",
    "    print('\\ndataset:', name)\n",
    "    df[name]['unigrams'] = df[name]['text'].apply(lambda x: tokenize_text(x))\n",
    "    print(df[name][0:10][[\"unigrams\"]]) "
   ]
  },
  {
   "cell_type": "markdown",
   "metadata": {},
   "source": [
    "by sci-kit learn libary"
   ]
  },
  {
   "cell_type": "code",
   "execution_count": 31,
   "metadata": {},
   "outputs": [
    {
     "name": "stdout",
     "output_type": "stream",
     "text": [
      "Shape of  yelp (992, 2035)\n",
      "Shape of  imdb (742, 3047)\n",
      "Shape of  amazon_cells (980, 1845)\n"
     ]
    }
   ],
   "source": [
    "count_vect = {}\n",
    "df_counts = {}\n",
    "for name in dataset_list:\n",
    "    count_vect[name] = CountVectorizer()\n",
    "    df_counts[name] = count_vect[name].fit_transform(df[name].text) #tokenize and count for a corpus\n",
    "    print('Shape of ', name, df_counts[name].shape)"
   ]
  },
  {
   "cell_type": "code",
   "execution_count": 32,
   "metadata": {},
   "outputs": [
    {
     "name": "stdout",
     "output_type": "stream",
     "text": [
      "yelp ['was', 'disgusted', 'because', 'was', 'pretty', 'sure', 'that', 'was', 'human', 'hair']\n",
      "imdb ['this', 'is', 'very', 'right', 'on', 'case', 'movie', 'that', 'delivers', 'everything', 'almost', 'right', 'in', 'your', 'face']\n",
      "amazon_cells ['the', 'design', 'is', 'very', 'odd', 'as', 'the', 'ear', 'clip', 'is', 'not', 'very', 'comfortable', 'at', 'all']\n"
     ]
    }
   ],
   "source": [
    "for name in dataset_list:\n",
    "    analyze = count_vect[name].build_analyzer() \n",
    "    print(name, analyze(\" \".join(list(df[name][14:15].text)))) # tokenize some sentence "
   ]
  },
  {
   "cell_type": "code",
   "execution_count": 33,
   "metadata": {},
   "outputs": [
    {
     "name": "stdout",
     "output_type": "stream",
     "text": [
      "the feature names of the vectorizer\n",
      " ['accomodate', 'accordingly', 'accountant', 'ache', 'acknowledged', 'across', 'actual', 'actually', 'added', 'affordable']\n",
      "the feature names of the vectorizer\n",
      " ['80s', '8pm', '90', '95', 'aailiyah', 'abandoned', 'ability', 'about', 'above', 'abroad']\n",
      "the feature names of the vectorizer\n",
      " ['8530', 'abhor', 'ability', 'able', 'abound', 'about', 'above', 'absolutel', 'absolutely', 'ac']\n"
     ]
    }
   ],
   "source": [
    "for name in dataset_list:\n",
    "    print('the feature names of the vectorizer\\n', count_vect[name].get_feature_names()[30:40])"
   ]
  },
  {
   "cell_type": "code",
   "execution_count": 34,
   "metadata": {},
   "outputs": [
    {
     "data": {
      "text/html": [
       "<div>\n",
       "<style>\n",
       "    .dataframe thead tr:only-child th {\n",
       "        text-align: right;\n",
       "    }\n",
       "\n",
       "    .dataframe thead th {\n",
       "        text-align: left;\n",
       "    }\n",
       "\n",
       "    .dataframe tbody tr th {\n",
       "        vertical-align: top;\n",
       "    }\n",
       "</style>\n",
       "<table border=\"1\" class=\"dataframe\">\n",
       "  <thead>\n",
       "    <tr style=\"text-align: right;\">\n",
       "      <th></th>\n",
       "      <th>text</th>\n",
       "      <th>label</th>\n",
       "      <th>unigrams</th>\n",
       "    </tr>\n",
       "  </thead>\n",
       "  <tbody>\n",
       "    <tr>\n",
       "      <th>0</th>\n",
       "      <td>Wow... Loved this place.</td>\n",
       "      <td>1</td>\n",
       "      <td>[Wow, ..., Loved, this, place, .]</td>\n",
       "    </tr>\n",
       "    <tr>\n",
       "      <th>1</th>\n",
       "      <td>Crust is not good.</td>\n",
       "      <td>0</td>\n",
       "      <td>[Crust, is, not, good, .]</td>\n",
       "    </tr>\n",
       "    <tr>\n",
       "      <th>2</th>\n",
       "      <td>Not tasty and the texture was just nasty.</td>\n",
       "      <td>0</td>\n",
       "      <td>[Not, tasty, and, the, texture, was, just, nas...</td>\n",
       "    </tr>\n",
       "    <tr>\n",
       "      <th>3</th>\n",
       "      <td>Stopped by during the late May bank holiday of...</td>\n",
       "      <td>1</td>\n",
       "      <td>[Stopped, by, during, the, late, May, bank, ho...</td>\n",
       "    </tr>\n",
       "    <tr>\n",
       "      <th>4</th>\n",
       "      <td>The selection on the menu was great and so wer...</td>\n",
       "      <td>1</td>\n",
       "      <td>[The, selection, on, the, menu, was, great, an...</td>\n",
       "    </tr>\n",
       "    <tr>\n",
       "      <th>5</th>\n",
       "      <td>Now I am getting angry and I want my damn pho.</td>\n",
       "      <td>0</td>\n",
       "      <td>[Now, I, am, getting, angry, and, I, want, my,...</td>\n",
       "    </tr>\n",
       "    <tr>\n",
       "      <th>6</th>\n",
       "      <td>Honeslty it didn't taste THAT fresh.)</td>\n",
       "      <td>0</td>\n",
       "      <td>[Honeslty, it, did, n't, taste, THAT, fresh, ....</td>\n",
       "    </tr>\n",
       "    <tr>\n",
       "      <th>7</th>\n",
       "      <td>The potatoes were like rubber and you could te...</td>\n",
       "      <td>0</td>\n",
       "      <td>[The, potatoes, were, like, rubber, and, you, ...</td>\n",
       "    </tr>\n",
       "    <tr>\n",
       "      <th>8</th>\n",
       "      <td>The fries were great too.</td>\n",
       "      <td>1</td>\n",
       "      <td>[The, fries, were, great, too, .]</td>\n",
       "    </tr>\n",
       "    <tr>\n",
       "      <th>9</th>\n",
       "      <td>A great touch.</td>\n",
       "      <td>1</td>\n",
       "      <td>[A, great, touch, .]</td>\n",
       "    </tr>\n",
       "  </tbody>\n",
       "</table>\n",
       "</div>"
      ],
      "text/plain": [
       "                                                text  label  \\\n",
       "0                           Wow... Loved this place.      1   \n",
       "1                                 Crust is not good.      0   \n",
       "2          Not tasty and the texture was just nasty.      0   \n",
       "3  Stopped by during the late May bank holiday of...      1   \n",
       "4  The selection on the menu was great and so wer...      1   \n",
       "5     Now I am getting angry and I want my damn pho.      0   \n",
       "6              Honeslty it didn't taste THAT fresh.)      0   \n",
       "7  The potatoes were like rubber and you could te...      0   \n",
       "8                          The fries were great too.      1   \n",
       "9                                     A great touch.      1   \n",
       "\n",
       "                                            unigrams  \n",
       "0                  [Wow, ..., Loved, this, place, .]  \n",
       "1                          [Crust, is, not, good, .]  \n",
       "2  [Not, tasty, and, the, texture, was, just, nas...  \n",
       "3  [Stopped, by, during, the, late, May, bank, ho...  \n",
       "4  [The, selection, on, the, menu, was, great, an...  \n",
       "5  [Now, I, am, getting, angry, and, I, want, my,...  \n",
       "6  [Honeslty, it, did, n't, taste, THAT, fresh, ....  \n",
       "7  [The, potatoes, were, like, rubber, and, you, ...  \n",
       "8                  [The, fries, were, great, too, .]  \n",
       "9                               [A, great, touch, .]  "
      ]
     },
     "execution_count": 34,
     "metadata": {},
     "output_type": "execute_result"
    }
   ],
   "source": [
    "df[dataset_list[0]][:10]"
   ]
  },
  {
   "cell_type": "code",
   "execution_count": 35,
   "metadata": {},
   "outputs": [
    {
     "data": {
      "text/plain": [
       "array([[0, 0, 0, 0, 0, 0, 0, 0, 0, 0, 0, 0, 0, 0, 0, 0, 0, 0, 0, 0, 0, 0,\n",
       "        0, 0, 0, 0, 0, 0, 0, 0, 0, 0, 0, 0, 0, 0, 0, 0, 0, 0, 0, 0, 0, 0,\n",
       "        0, 0, 0, 0, 0, 0, 0, 0, 0, 0, 0, 0, 0, 0, 0, 0, 0, 0, 0, 0, 1, 0,\n",
       "        0, 0, 0, 0, 0, 0, 0, 0, 0, 0, 0, 0, 0, 0, 0, 0, 0, 0, 0, 0, 0, 0,\n",
       "        0, 0, 0, 0, 0, 0, 0, 0, 0, 0, 0, 0, 0, 0, 0, 0, 0, 0, 0, 0, 0, 0,\n",
       "        0, 0, 0, 0, 0, 0, 0, 0, 0, 0, 0, 0, 0, 0, 0, 0, 0, 0, 0, 0, 0, 0,\n",
       "        0, 0, 0, 0, 0, 0, 0, 0, 0, 0, 0, 0, 0, 0, 0, 0, 0, 0, 0, 0, 0, 0,\n",
       "        0, 0, 0, 0, 0, 0, 0, 0, 0, 0, 0, 0, 0, 0, 0, 0, 0, 0, 0, 0, 0, 0,\n",
       "        0, 0, 0, 0, 0, 0, 0, 0, 0, 0, 0, 0, 0, 0, 0, 0, 0, 1, 0, 0, 0, 0,\n",
       "        0, 0],\n",
       "       [0, 0, 0, 0, 0, 0, 0, 0, 0, 0, 0, 0, 0, 0, 0, 0, 0, 0, 0, 0, 0, 0,\n",
       "        0, 0, 0, 0, 0, 0, 0, 0, 0, 0, 0, 0, 0, 0, 0, 0, 0, 0, 0, 0, 0, 0,\n",
       "        0, 0, 0, 0, 0, 0, 0, 0, 0, 0, 0, 0, 0, 0, 0, 0, 0, 0, 0, 0, 0, 0,\n",
       "        0, 0, 0, 0, 0, 0, 0, 0, 0, 0, 0, 0, 0, 0, 0, 0, 0, 0, 0, 0, 0, 0,\n",
       "        0, 0, 0, 0, 0, 0, 0, 0, 0, 0, 0, 0, 0, 0, 0, 0, 0, 0, 0, 0, 0, 0,\n",
       "        0, 0, 0, 0, 0, 0, 0, 0, 0, 0, 0, 0, 0, 0, 0, 0, 0, 0, 0, 0, 0, 0,\n",
       "        0, 0, 0, 0, 0, 0, 0, 0, 0, 0, 0, 0, 0, 0, 0, 0, 0, 0, 0, 0, 0, 0,\n",
       "        0, 0, 0, 0, 0, 0, 0, 0, 0, 0, 0, 0, 0, 0, 0, 0, 0, 0, 0, 0, 0, 0,\n",
       "        0, 0, 0, 0, 0, 0, 0, 0, 0, 0, 0, 0, 0, 0, 0, 0, 0, 0, 0, 0, 0, 0,\n",
       "        0, 0]])"
      ]
     },
     "execution_count": 35,
     "metadata": {},
     "output_type": "execute_result"
    }
   ],
   "source": [
    "# feaure table of corpus 'yelp'\n",
    "df_counts[dataset_list[0]][15:17,100:300].toarray() "
   ]
  },
  {
   "cell_type": "code",
   "execution_count": 36,
   "metadata": {},
   "outputs": [
    {
     "data": {
      "text/plain": [
       "array([[0, 0, 0, ..., 0, 0, 0]])"
      ]
     },
     "execution_count": 36,
     "metadata": {},
     "output_type": "execute_result"
    }
   ],
   "source": [
    "count_vect[dataset_list[0]].transform(['Something completely new.']).toarray()"
   ]
  },
  {
   "cell_type": "code",
   "execution_count": 37,
   "metadata": {},
   "outputs": [
    {
     "data": {
      "text/plain": [
       "array([[0, 0, 0, ..., 0, 0, 0]])"
      ]
     },
     "execution_count": 37,
     "metadata": {},
     "output_type": "execute_result"
    }
   ],
   "source": [
    "count_vect[dataset_list[1]].transform(['Something completely new.']).toarray()"
   ]
  },
  {
   "cell_type": "code",
   "execution_count": 38,
   "metadata": {},
   "outputs": [
    {
     "data": {
      "text/html": [
       "<iframe id=\"igraph\" scrolling=\"no\" style=\"border:none;\" seamless=\"seamless\" src=\"https://plot.ly/~tinachang/74.embed\" height=\"525px\" width=\"100%\"></iframe>"
      ],
      "text/plain": [
       "<plotly.tools.PlotlyDisplay object>"
      ]
     },
     "execution_count": 38,
     "metadata": {},
     "output_type": "execute_result"
    }
   ],
   "source": [
    "# plot sparse matrix\n",
    "dataset_name = 'yelp'\n",
    "doc_N = 20\n",
    "term_N = 20\n",
    "plot_x = [\"term_\"+str(i) for i in count_vect[dataset_name].get_feature_names()[:term_N]]\n",
    "plot_y = [\"doc_\"+ str(i) for i in list(df[dataset_name].index)[:doc_N]]\n",
    "plot_z = df_counts[dataset_name][:doc_N, :term_N].toarray()\n",
    "py.iplot(ta.plot_heat_map(plot_x, plot_y, plot_z))"
   ]
  },
  {
   "cell_type": "markdown",
   "metadata": {},
   "source": [
    "#### Exercise 3: \n",
    "From the chart above, we can see how sparse the term-document matrix is; i.e., there is only one terms with frequency of 1 in the subselection of the matrix. By the way, you may have noticed that we only selected 20 articles and 20 terms to plot the histrogram. As an excersise you can try to modify the code above to plot the entire term-document matrix or just a sample of it."
   ]
  },
  {
   "cell_type": "code",
   "execution_count": 39,
   "metadata": {},
   "outputs": [
    {
     "data": {
      "text/html": [
       "<iframe id=\"igraph\" scrolling=\"no\" style=\"border:none;\" seamless=\"seamless\" src=\"https://plot.ly/~tinachang/76.embed\" height=\"525px\" width=\"100%\"></iframe>"
      ],
      "text/plain": [
       "<plotly.tools.PlotlyDisplay object>"
      ]
     },
     "execution_count": 39,
     "metadata": {},
     "output_type": "execute_result"
    }
   ],
   "source": [
    "dataset_name = 'yelp'\n",
    "doc_N = 200\n",
    "term_N = 200\n",
    "plot_x = [\"term_\"+str(i) for i in count_vect[dataset_name].get_feature_names()[:term_N]]\n",
    "plot_y = [\"doc_\"+ str(i) for i in list(df[dataset_name].index)[:doc_N]]\n",
    "plot_z = df_counts[dataset_name][:doc_N, :term_N].toarray()\n",
    "py.iplot(ta.plot_heat_map(plot_x, plot_y, plot_z))"
   ]
  },
  {
   "cell_type": "markdown",
   "metadata": {},
   "source": [
    "use matplotlib libary"
   ]
  },
  {
   "cell_type": "code",
   "execution_count": 40,
   "metadata": {},
   "outputs": [
    {
     "data": {
      "image/png": "[encoded data removed]",
      "text/plain": [
       "<matplotlib.figure.Figure at 0x7f18219deb00>"
      ]
     },
     "metadata": {},
     "output_type": "display_data"
    }
   ],
   "source": [
    "from matplotlib.colors import LogNorm\n",
    "plt.imshow(plot_z, cmap='hot', norm=LogNorm(), interpolation='nearest')\n",
    "plt.colorbar()\n",
    "plt.show()"
   ]
  },
  {
   "cell_type": "markdown",
   "metadata": {},
   "source": [
    "#### 4.3 Dimensionality Reduction "
   ]
  },
  {
   "cell_type": "code",
   "execution_count": 41,
   "metadata": {},
   "outputs": [
    {
     "data": {
      "text/plain": [
       "(992, 3)"
      ]
     },
     "execution_count": 41,
     "metadata": {},
     "output_type": "execute_result"
    }
   ],
   "source": [
    "from sklearn.decomposition import PCA\n",
    "# reduce demension\n",
    "df_reduced = PCA(n_components=3).fit_transform(df_counts['yelp'].toarray())  \n",
    "df_reduced.shape"
   ]
  },
  {
   "cell_type": "code",
   "execution_count": 42,
   "metadata": {},
   "outputs": [
    {
     "data": {
      "text/html": [
       "<iframe id=\"igraph\" scrolling=\"no\" style=\"border:none;\" seamless=\"seamless\" src=\"https://plot.ly/~tinachang/78.embed\" height=\"525px\" width=\"100%\"></iframe>"
      ],
      "text/plain": [
       "<plotly.tools.PlotlyDisplay object>"
      ]
     },
     "execution_count": 42,
     "metadata": {},
     "output_type": "execute_result"
    }
   ],
   "source": [
    "# plot after demension reduction to three demension\n",
    "trace1 = ta.get_trace(df_reduced, df['yelp']['label'], 1, \"rgb(71,233,163)\")\n",
    "trace2 = ta.get_trace(df_reduced, df['yelp']['label'], 0, \"rgb(52,133,252)\")\n",
    "data = [trace1, trace2]\n",
    "layout = go.Layout(margin = dict(l = 0,\n",
    "                                 r = 0,\n",
    "                                 b = 0,\n",
    "                                 t = 0))\n",
    "fig = go.Figure(data=data, layout=layout)\n",
    "py.iplot(fig, filename='simple-3d-scatter')"
   ]
  },
  {
   "cell_type": "markdown",
   "metadata": {},
   "source": [
    "#### 4.4 Atrribute Transformation / Aggregation"
   ]
  },
  {
   "cell_type": "code",
   "execution_count": 43,
   "metadata": {},
   "outputs": [
    {
     "data": {
      "text/html": [
       "<iframe id=\"igraph\" scrolling=\"no\" style=\"border:none;\" seamless=\"seamless\" src=\"https://plot.ly/~tinachang/80.embed\" height=\"525px\" width=\"100%\"></iframe>"
      ],
      "text/plain": [
       "<plotly.tools.PlotlyDisplay object>"
      ]
     },
     "execution_count": 43,
     "metadata": {},
     "output_type": "execute_result"
    }
   ],
   "source": [
    "term_frequencies = []\n",
    "for j in range(0, df_counts['yelp'].shape[1]):\n",
    "    term_frequencies.append(sum(df_counts['yelp'][:,j].toarray()))\n",
    "py.iplot(ta.plot_word_frequency([count_vect['yelp'].get_feature_names(), term_frequencies], \"Term Frequency Distribution\"))"
   ]
  },
  {
   "cell_type": "markdown",
   "metadata": {},
   "source": [
    "#### Exercise 4: \n",
    "The chart above contains all the vocabulary, and it's computationally intensive to both compute and visualize. You can try to reduce the number of terms you want to visualize as an exercise."
   ]
  },
  {
   "cell_type": "code",
   "execution_count": 44,
   "metadata": {
    "scrolled": true
   },
   "outputs": [
    {
     "data": {
      "text/html": [
       "<iframe id=\"igraph\" scrolling=\"no\" style=\"border:none;\" seamless=\"seamless\" src=\"https://plot.ly/~tinachang/82.embed\" height=\"525px\" width=\"100%\"></iframe>"
      ],
      "text/plain": [
       "<plotly.tools.PlotlyDisplay object>"
      ]
     },
     "execution_count": 44,
     "metadata": {},
     "output_type": "execute_result"
    }
   ],
   "source": [
    "# only show the terms which frequency more than 30 \n",
    "filter_freq = 30\n",
    "t_f = np.array(term_frequencies)[np.array(term_frequencies) > filter_freq]\n",
    "f_n = []\n",
    "for i in range(len(term_frequencies)):\n",
    "    if [np.array(term_frequencies) > filter_freq][0][i]:\n",
    "        f_n.append(list(count_vect['yelp'].get_feature_names())[i])\n",
    "py.iplot(ta.plot_word_frequency([f_n, t_f], \"Term Frequency Distribution\"))"
   ]
  },
  {
   "cell_type": "markdown",
   "metadata": {},
   "source": [
    "####  Exercise 5: \n",
    "Additionally, you can attempt to sort the terms on the x-axis by frequency instead of in alphabetical order."
   ]
  },
  {
   "cell_type": "code",
   "execution_count": 45,
   "metadata": {},
   "outputs": [
    {
     "data": {
      "text/html": [
       "<iframe id=\"igraph\" scrolling=\"no\" style=\"border:none;\" seamless=\"seamless\" src=\"https://plot.ly/~tinachang/84.embed\" height=\"525px\" width=\"100%\"></iframe>"
      ],
      "text/plain": [
       "<plotly.tools.PlotlyDisplay object>"
      ]
     },
     "execution_count": 45,
     "metadata": {},
     "output_type": "execute_result"
    }
   ],
   "source": [
    "f_n_sorted = [x for _, x in sorted(zip(t_f, f_n), reverse=True)]\n",
    "t_f_sorted = sorted(t_f, reverse=True)\n",
    "py.iplot(ta.plot_word_frequency([f_n_sorted, t_f_sorted], \"Term Frequency Distribution\"))"
   ]
  },
  {
   "cell_type": "code",
   "execution_count": 46,
   "metadata": {},
   "outputs": [
    {
     "data": {
      "text/html": [
       "<iframe id=\"igraph\" scrolling=\"no\" style=\"border:none;\" seamless=\"seamless\" src=\"https://plot.ly/~tinachang/86.embed\" height=\"525px\" width=\"100%\"></iframe>"
      ],
      "text/plain": [
       "<plotly.tools.PlotlyDisplay object>"
      ]
     },
     "execution_count": 46,
     "metadata": {},
     "output_type": "execute_result"
    }
   ],
   "source": [
    "# take one log on term frequency\n",
    "term_frequencies_log = [math.log(i) for i in term_frequencies]\n",
    "py.iplot(ta.plot_word_frequency([count_vect['yelp'].get_feature_names(), term_frequencies_log], \"Term Frequency(log) Distribution\"))"
   ]
  },
  {
   "cell_type": "code",
   "execution_count": 47,
   "metadata": {
    "collapsed": true
   },
   "outputs": [],
   "source": [
    "# sort one log "
   ]
  },
  {
   "cell_type": "code",
   "execution_count": 48,
   "metadata": {},
   "outputs": [
    {
     "data": {
      "text/html": [
       "<iframe id=\"igraph\" scrolling=\"no\" style=\"border:none;\" seamless=\"seamless\" src=\"https://plot.ly/~tinachang/88.embed\" height=\"525px\" width=\"100%\"></iframe>"
      ],
      "text/plain": [
       "<plotly.tools.PlotlyDisplay object>"
      ]
     },
     "execution_count": 48,
     "metadata": {},
     "output_type": "execute_result"
    }
   ],
   "source": [
    "f_n_log_sorted = [x for _, x in sorted(zip(term_frequencies_log, list(count_vect['yelp'].get_feature_names())), reverse=True)]\n",
    "t_f_log_sorted = sorted(term_frequencies_log, reverse=True)\n",
    "py.iplot(ta.plot_word_frequency([f_n_log_sorted, t_f_log_sorted], \"Term Frequency(log) Distribution\"))"
   ]
  },
  {
   "cell_type": "markdown",
   "metadata": {},
   "source": [
    "#### 4.5 Discretization and Binarization"
   ]
  },
  {
   "cell_type": "code",
   "execution_count": 49,
   "metadata": {},
   "outputs": [
    {
     "data": {
      "text/html": [
       "<div>\n",
       "<style>\n",
       "    .dataframe thead tr:only-child th {\n",
       "        text-align: right;\n",
       "    }\n",
       "\n",
       "    .dataframe thead th {\n",
       "        text-align: left;\n",
       "    }\n",
       "\n",
       "    .dataframe tbody tr th {\n",
       "        vertical-align: top;\n",
       "    }\n",
       "</style>\n",
       "<table border=\"1\" class=\"dataframe\">\n",
       "  <thead>\n",
       "    <tr style=\"text-align: right;\">\n",
       "      <th></th>\n",
       "      <th>text</th>\n",
       "      <th>label</th>\n",
       "      <th>unigrams</th>\n",
       "      <th>bin_label</th>\n",
       "    </tr>\n",
       "  </thead>\n",
       "  <tbody>\n",
       "    <tr>\n",
       "      <th>0</th>\n",
       "      <td>Wow... Loved this place.</td>\n",
       "      <td>1</td>\n",
       "      <td>[Wow, ..., Loved, this, place, .]</td>\n",
       "      <td>[1]</td>\n",
       "    </tr>\n",
       "    <tr>\n",
       "      <th>1</th>\n",
       "      <td>Crust is not good.</td>\n",
       "      <td>0</td>\n",
       "      <td>[Crust, is, not, good, .]</td>\n",
       "      <td>[0]</td>\n",
       "    </tr>\n",
       "    <tr>\n",
       "      <th>2</th>\n",
       "      <td>Not tasty and the texture was just nasty.</td>\n",
       "      <td>0</td>\n",
       "      <td>[Not, tasty, and, the, texture, was, just, nas...</td>\n",
       "      <td>[0]</td>\n",
       "    </tr>\n",
       "    <tr>\n",
       "      <th>3</th>\n",
       "      <td>Stopped by during the late May bank holiday of...</td>\n",
       "      <td>1</td>\n",
       "      <td>[Stopped, by, during, the, late, May, bank, ho...</td>\n",
       "      <td>[1]</td>\n",
       "    </tr>\n",
       "    <tr>\n",
       "      <th>4</th>\n",
       "      <td>The selection on the menu was great and so wer...</td>\n",
       "      <td>1</td>\n",
       "      <td>[The, selection, on, the, menu, was, great, an...</td>\n",
       "      <td>[1]</td>\n",
       "    </tr>\n",
       "    <tr>\n",
       "      <th>5</th>\n",
       "      <td>Now I am getting angry and I want my damn pho.</td>\n",
       "      <td>0</td>\n",
       "      <td>[Now, I, am, getting, angry, and, I, want, my,...</td>\n",
       "      <td>[0]</td>\n",
       "    </tr>\n",
       "    <tr>\n",
       "      <th>6</th>\n",
       "      <td>Honeslty it didn't taste THAT fresh.)</td>\n",
       "      <td>0</td>\n",
       "      <td>[Honeslty, it, did, n't, taste, THAT, fresh, ....</td>\n",
       "      <td>[0]</td>\n",
       "    </tr>\n",
       "    <tr>\n",
       "      <th>7</th>\n",
       "      <td>The potatoes were like rubber and you could te...</td>\n",
       "      <td>0</td>\n",
       "      <td>[The, potatoes, were, like, rubber, and, you, ...</td>\n",
       "      <td>[0]</td>\n",
       "    </tr>\n",
       "    <tr>\n",
       "      <th>8</th>\n",
       "      <td>The fries were great too.</td>\n",
       "      <td>1</td>\n",
       "      <td>[The, fries, were, great, too, .]</td>\n",
       "      <td>[1]</td>\n",
       "    </tr>\n",
       "  </tbody>\n",
       "</table>\n",
       "</div>"
      ],
      "text/plain": [
       "                                                text  label  \\\n",
       "0                           Wow... Loved this place.      1   \n",
       "1                                 Crust is not good.      0   \n",
       "2          Not tasty and the texture was just nasty.      0   \n",
       "3  Stopped by during the late May bank holiday of...      1   \n",
       "4  The selection on the menu was great and so wer...      1   \n",
       "5     Now I am getting angry and I want my damn pho.      0   \n",
       "6              Honeslty it didn't taste THAT fresh.)      0   \n",
       "7  The potatoes were like rubber and you could te...      0   \n",
       "8                          The fries were great too.      1   \n",
       "\n",
       "                                            unigrams bin_label  \n",
       "0                  [Wow, ..., Loved, this, place, .]       [1]  \n",
       "1                          [Crust, is, not, good, .]       [0]  \n",
       "2  [Not, tasty, and, the, texture, was, just, nas...       [0]  \n",
       "3  [Stopped, by, during, the, late, May, bank, ho...       [1]  \n",
       "4  [The, selection, on, the, menu, was, great, an...       [1]  \n",
       "5  [Now, I, am, getting, angry, and, I, want, my,...       [0]  \n",
       "6  [Honeslty, it, did, n't, taste, THAT, fresh, ....       [0]  \n",
       "7  [The, potatoes, were, like, rubber, and, you, ...       [0]  \n",
       "8                  [The, fries, were, great, too, .]       [1]  "
      ]
     },
     "execution_count": 49,
     "metadata": {},
     "output_type": "execute_result"
    }
   ],
   "source": [
    "from sklearn import preprocessing, metrics, decomposition, pipeline, dummy\n",
    "dataset_name = 'yelp'\n",
    "mlb = preprocessing.LabelBinarizer()\n",
    "mlb.fit(df[dataset_name].label)\n",
    "df[dataset_name]['bin_label'] = mlb.transform(df[dataset_name]['label']).tolist()\n",
    "df[dataset_name][0:9]"
   ]
  },
  {
   "cell_type": "markdown",
   "metadata": {},
   "source": [
    "## 5. MORE..."
   ]
  },
  {
   "cell_type": "markdown",
   "metadata": {},
   "source": [
    "#### Is there any useful information in length of text?"
   ]
  },
  {
   "cell_type": "code",
   "execution_count": 50,
   "metadata": {},
   "outputs": [
    {
     "data": {
      "text/html": [
       "<div>\n",
       "<style>\n",
       "    .dataframe thead tr:only-child th {\n",
       "        text-align: right;\n",
       "    }\n",
       "\n",
       "    .dataframe thead th {\n",
       "        text-align: left;\n",
       "    }\n",
       "\n",
       "    .dataframe tbody tr th {\n",
       "        vertical-align: top;\n",
       "    }\n",
       "</style>\n",
       "<table border=\"1\" class=\"dataframe\">\n",
       "  <thead>\n",
       "    <tr style=\"text-align: right;\">\n",
       "      <th></th>\n",
       "      <th>bin_label</th>\n",
       "      <th>dataset_name</th>\n",
       "      <th>label</th>\n",
       "      <th>text</th>\n",
       "      <th>unigrams</th>\n",
       "    </tr>\n",
       "  </thead>\n",
       "  <tbody>\n",
       "    <tr>\n",
       "      <th>1831</th>\n",
       "      <td>NaN</td>\n",
       "      <td>amazon_cells</td>\n",
       "      <td>1</td>\n",
       "      <td>Best I've found so far .... I've tried 2 other...</td>\n",
       "      <td>[Best, I, 've, found, so, far, ..., ., I, 've,...</td>\n",
       "    </tr>\n",
       "    <tr>\n",
       "      <th>525</th>\n",
       "      <td>[1]</td>\n",
       "      <td>yelp</td>\n",
       "      <td>1</td>\n",
       "      <td>The bartender was also nice.</td>\n",
       "      <td>[The, bartender, was, also, nice, .]</td>\n",
       "    </tr>\n",
       "    <tr>\n",
       "      <th>2140</th>\n",
       "      <td>NaN</td>\n",
       "      <td>amazon_cells</td>\n",
       "      <td>1</td>\n",
       "      <td>An Awesome New Look For Fall 2000!.</td>\n",
       "      <td>[An, Awesome, New, Look, For, Fall, 2000, !, .]</td>\n",
       "    </tr>\n",
       "    <tr>\n",
       "      <th>1483</th>\n",
       "      <td>NaN</td>\n",
       "      <td>imdb</td>\n",
       "      <td>1</td>\n",
       "      <td>You wont regret it!</td>\n",
       "      <td>[You, wont, regret, it, !]</td>\n",
       "    </tr>\n",
       "    <tr>\n",
       "      <th>223</th>\n",
       "      <td>[0]</td>\n",
       "      <td>yelp</td>\n",
       "      <td>0</td>\n",
       "      <td>Hopefully this bodes for them going out of bus...</td>\n",
       "      <td>[Hopefully, this, bodes, for, them, going, out...</td>\n",
       "    </tr>\n",
       "    <tr>\n",
       "      <th>1513</th>\n",
       "      <td>NaN</td>\n",
       "      <td>imdb</td>\n",
       "      <td>0</td>\n",
       "      <td>Seriously, it's not worth wasting your, or you...</td>\n",
       "      <td>[Seriously, ,, it, 's, not, worth, wasting, yo...</td>\n",
       "    </tr>\n",
       "    <tr>\n",
       "      <th>578</th>\n",
       "      <td>[0]</td>\n",
       "      <td>yelp</td>\n",
       "      <td>0</td>\n",
       "      <td>If you look for authentic Thai food, go else w...</td>\n",
       "      <td>[If, you, look, for, authentic, Thai, food, ,,...</td>\n",
       "    </tr>\n",
       "    <tr>\n",
       "      <th>1896</th>\n",
       "      <td>NaN</td>\n",
       "      <td>amazon_cells</td>\n",
       "      <td>1</td>\n",
       "      <td>Works like a charm; it work the same as the on...</td>\n",
       "      <td>[Works, like, a, charm, ;, it, work, the, same...</td>\n",
       "    </tr>\n",
       "    <tr>\n",
       "      <th>85</th>\n",
       "      <td>[1]</td>\n",
       "      <td>yelp</td>\n",
       "      <td>1</td>\n",
       "      <td>I love the Pho and the spring rolls oh so yumm...</td>\n",
       "      <td>[I, love, the, Pho, and, the, spring, rolls, o...</td>\n",
       "    </tr>\n",
       "    <tr>\n",
       "      <th>2148</th>\n",
       "      <td>NaN</td>\n",
       "      <td>amazon_cells</td>\n",
       "      <td>0</td>\n",
       "      <td>Also the area where my unit broke).- I'm not t...</td>\n",
       "      <td>[Also, the, area, where, my, unit, broke, ), ....</td>\n",
       "    </tr>\n",
       "    <tr>\n",
       "      <th>2364</th>\n",
       "      <td>NaN</td>\n",
       "      <td>amazon_cells</td>\n",
       "      <td>1</td>\n",
       "      <td>They do not last forever, but is not overly ex...</td>\n",
       "      <td>[They, do, not, last, forever, ,, but, is, not...</td>\n",
       "    </tr>\n",
       "    <tr>\n",
       "      <th>1136</th>\n",
       "      <td>NaN</td>\n",
       "      <td>imdb</td>\n",
       "      <td>1</td>\n",
       "      <td>And I really did find them funny.</td>\n",
       "      <td>[And, I, really, did, find, them, funny, .]</td>\n",
       "    </tr>\n",
       "    <tr>\n",
       "      <th>505</th>\n",
       "      <td>[0]</td>\n",
       "      <td>yelp</td>\n",
       "      <td>0</td>\n",
       "      <td>Thoroughly disappointed!</td>\n",
       "      <td>[Thoroughly, disappointed, !]</td>\n",
       "    </tr>\n",
       "    <tr>\n",
       "      <th>2329</th>\n",
       "      <td>NaN</td>\n",
       "      <td>amazon_cells</td>\n",
       "      <td>0</td>\n",
       "      <td>It is cheap, and it feel and look just as cheap.</td>\n",
       "      <td>[It, is, cheap, ,, and, it, feel, and, look, j...</td>\n",
       "    </tr>\n",
       "    <tr>\n",
       "      <th>1926</th>\n",
       "      <td>NaN</td>\n",
       "      <td>amazon_cells</td>\n",
       "      <td>1</td>\n",
       "      <td>You'll love how thin it is.</td>\n",
       "      <td>[You, 'll, love, how, thin, it, is, .]</td>\n",
       "    </tr>\n",
       "    <tr>\n",
       "      <th>2649</th>\n",
       "      <td>NaN</td>\n",
       "      <td>amazon_cells</td>\n",
       "      <td>0</td>\n",
       "      <td>However, after about a year, the fliptop start...</td>\n",
       "      <td>[However, ,, after, about, a, year, ,, the, fl...</td>\n",
       "    </tr>\n",
       "    <tr>\n",
       "      <th>1633</th>\n",
       "      <td>NaN</td>\n",
       "      <td>imdb</td>\n",
       "      <td>1</td>\n",
       "      <td>Director Neil LaBute uses brutal violence to s...</td>\n",
       "      <td>[Director, Neil, LaBute, uses, brutal, violenc...</td>\n",
       "    </tr>\n",
       "    <tr>\n",
       "      <th>2482</th>\n",
       "      <td>NaN</td>\n",
       "      <td>amazon_cells</td>\n",
       "      <td>0</td>\n",
       "      <td>wont work right or atleast for me.</td>\n",
       "      <td>[wont, work, right, or, atleast, for, me, .]</td>\n",
       "    </tr>\n",
       "    <tr>\n",
       "      <th>546</th>\n",
       "      <td>[1]</td>\n",
       "      <td>yelp</td>\n",
       "      <td>1</td>\n",
       "      <td>I really do recommend this place, you can go w...</td>\n",
       "      <td>[I, really, do, recommend, this, place, ,, you...</td>\n",
       "    </tr>\n",
       "    <tr>\n",
       "      <th>2065</th>\n",
       "      <td>NaN</td>\n",
       "      <td>amazon_cells</td>\n",
       "      <td>0</td>\n",
       "      <td>It was an inexpensive piece, but I would still...</td>\n",
       "      <td>[It, was, an, inexpensive, piece, ,, but, I, w...</td>\n",
       "    </tr>\n",
       "  </tbody>\n",
       "</table>\n",
       "</div>"
      ],
      "text/plain": [
       "     bin_label  dataset_name  label  \\\n",
       "1831       NaN  amazon_cells      1   \n",
       "525        [1]          yelp      1   \n",
       "2140       NaN  amazon_cells      1   \n",
       "1483       NaN          imdb      1   \n",
       "223        [0]          yelp      0   \n",
       "1513       NaN          imdb      0   \n",
       "578        [0]          yelp      0   \n",
       "1896       NaN  amazon_cells      1   \n",
       "85         [1]          yelp      1   \n",
       "2148       NaN  amazon_cells      0   \n",
       "2364       NaN  amazon_cells      1   \n",
       "1136       NaN          imdb      1   \n",
       "505        [0]          yelp      0   \n",
       "2329       NaN  amazon_cells      0   \n",
       "1926       NaN  amazon_cells      1   \n",
       "2649       NaN  amazon_cells      0   \n",
       "1633       NaN          imdb      1   \n",
       "2482       NaN  amazon_cells      0   \n",
       "546        [1]          yelp      1   \n",
       "2065       NaN  amazon_cells      0   \n",
       "\n",
       "                                                   text  \\\n",
       "1831  Best I've found so far .... I've tried 2 other...   \n",
       "525                        The bartender was also nice.   \n",
       "2140                An Awesome New Look For Fall 2000!.   \n",
       "1483                              You wont regret it!     \n",
       "223   Hopefully this bodes for them going out of bus...   \n",
       "1513  Seriously, it's not worth wasting your, or you...   \n",
       "578   If you look for authentic Thai food, go else w...   \n",
       "1896  Works like a charm; it work the same as the on...   \n",
       "85    I love the Pho and the spring rolls oh so yumm...   \n",
       "2148  Also the area where my unit broke).- I'm not t...   \n",
       "2364  They do not last forever, but is not overly ex...   \n",
       "1136                And I really did find them funny.     \n",
       "505                            Thoroughly disappointed!   \n",
       "2329   It is cheap, and it feel and look just as cheap.   \n",
       "1926                        You'll love how thin it is.   \n",
       "2649  However, after about a year, the fliptop start...   \n",
       "1633  Director Neil LaBute uses brutal violence to s...   \n",
       "2482                 wont work right or atleast for me.   \n",
       "546   I really do recommend this place, you can go w...   \n",
       "2065  It was an inexpensive piece, but I would still...   \n",
       "\n",
       "                                               unigrams  \n",
       "1831  [Best, I, 've, found, so, far, ..., ., I, 've,...  \n",
       "525                [The, bartender, was, also, nice, .]  \n",
       "2140    [An, Awesome, New, Look, For, Fall, 2000, !, .]  \n",
       "1483                         [You, wont, regret, it, !]  \n",
       "223   [Hopefully, this, bodes, for, them, going, out...  \n",
       "1513  [Seriously, ,, it, 's, not, worth, wasting, yo...  \n",
       "578   [If, you, look, for, authentic, Thai, food, ,,...  \n",
       "1896  [Works, like, a, charm, ;, it, work, the, same...  \n",
       "85    [I, love, the, Pho, and, the, spring, rolls, o...  \n",
       "2148  [Also, the, area, where, my, unit, broke, ), ....  \n",
       "2364  [They, do, not, last, forever, ,, but, is, not...  \n",
       "1136        [And, I, really, did, find, them, funny, .]  \n",
       "505                       [Thoroughly, disappointed, !]  \n",
       "2329  [It, is, cheap, ,, and, it, feel, and, look, j...  \n",
       "1926             [You, 'll, love, how, thin, it, is, .]  \n",
       "2649  [However, ,, after, about, a, year, ,, the, fl...  \n",
       "1633  [Director, Neil, LaBute, uses, brutal, violenc...  \n",
       "2482       [wont, work, right, or, atleast, for, me, .]  \n",
       "546   [I, really, do, recommend, this, place, ,, you...  \n",
       "2065  [It, was, an, inexpensive, piece, ,, but, I, w...  "
      ]
     },
     "execution_count": 50,
     "metadata": {},
     "output_type": "execute_result"
    }
   ],
   "source": [
    "# merge dataset\n",
    "for name in dataset_list:\n",
    "    df[name]['dataset_name'] = name\n",
    "df_all = pd.concat([df['yelp'], df['imdb'], df['amazon_cells']])\n",
    "df_all.index = range(df_all.shape[0])\n",
    "df_all.sample(n=20)"
   ]
  },
  {
   "cell_type": "markdown",
   "metadata": {},
   "source": [
    "After I merge three dataset, I create a new column named 'dataset_name'. Then, I want to know the correlation between column 'dataset_name' and 'label'."
   ]
  },
  {
   "cell_type": "code",
   "execution_count": 51,
   "metadata": {},
   "outputs": [
    {
     "name": "stdout",
     "output_type": "stream",
     "text": [
      "Shape of  (2714, 5153)\n"
     ]
    }
   ],
   "source": [
    "count_vect = CountVectorizer()\n",
    "count_vect.fit(df_all.text)\n",
    "df_counts = count_vect.transform(df_all.text) #tokenize and count for a corpus\n",
    "print('Shape of ',  df_counts.shape)"
   ]
  },
  {
   "cell_type": "markdown",
   "metadata": {},
   "source": [
    "As mention early, I know shape of yelp(992, 2035), imdb(742, 3047) and amazon_cells(980, 1845). After merging dataset, shape is (2714, 5153). Showing that there are these many the same word of three dataset.(5153 < 2035+3047+1845)  "
   ]
  },
  {
   "cell_type": "code",
   "execution_count": 55,
   "metadata": {
    "collapsed": true
   },
   "outputs": [],
   "source": [
    "analyze = count_vect.build_analyzer()\n",
    "\n",
    "# yelp_p : 'yelp' dataset with positive comment\n",
    "# p : total data with positive comment\n",
    "key_list = ['yelp', 'imdb', 'amazon_cells', \n",
    "            'p', 'n', \n",
    "            'yelp_p', 'yelp_n', 'imdb_p', 'imdb_n', 'amazon_cells_p', 'amazon_cells_n']\n",
    "\n",
    "temp = {} # ditionary{key: list of length of text}\n",
    "for k in key_list:\n",
    "    temp[k] = []\n",
    "for i in range(df_all.shape[0]):\n",
    "    name = df_all.dataset_name[i]\n",
    "    text_len = len(analyze(\" \".join(list(df_all['text'][i:i+1]))))\n",
    "    temp[name].append(text_len) \n",
    "    if df_all.label[i]: # label == 1 (positive comment)\n",
    "        temp['p'].append(text_len)\n",
    "        temp[name + '_p'].append(text_len)\n",
    "        \n",
    "    else: # label == 0 (negative comment)\n",
    "        temp['n'].append(text_len)\n",
    "        temp[name + '_n'].append(text_len)"
   ]
  },
  {
   "cell_type": "markdown",
   "metadata": {},
   "source": [
    "I use boxplot to show distribution of each condition."
   ]
  },
  {
   "cell_type": "code",
   "execution_count": 57,
   "metadata": {},
   "outputs": [
    {
     "data": {
      "image/png": "[encoded data removed]",
      "text/plain": [
       "<matplotlib.figure.Figure at 0x7f1821e270b8>"
      ]
     },
     "metadata": {},
     "output_type": "display_data"
    }
   ],
   "source": [
    "fig, ax = plt.subplots(figsize=(12, 6))\n",
    "plt.boxplot([temp[key] for key in key_list])\n",
    "plt.ylim([-1, 40])\n",
    "plt.xticks(range(1, 13), key_list, rotation=30)\n",
    "# plot background color\n",
    "plt.axvspan(0, 3.5, facecolor='#2ca02c', alpha=0.1)\n",
    "plt.axvspan(5.5, 7.5, facecolor='#ffc85b', alpha=0.1)\n",
    "plt.axvspan(7.5, 9.5, facecolor='#63bbff', alpha=0.1)\n",
    "plt.axvspan(9.5, 11.5, facecolor='#ff3d57', alpha=0.1)\n",
    "plt.ylabel('text_count')\n",
    "plt.xlabel('condition')\n",
    "plt.show()"
   ]
  },
  {
   "cell_type": "markdown",
   "metadata": {},
   "source": [
    "In green background, there are more word of comment in 'imdb' than the other. Then in blue background, positive comment are more word the the negative comment in 'imdb'. The other color of background, the length of text is statistically nonsignificant. "
   ]
  },
  {
   "cell_type": "code",
   "execution_count": null,
   "metadata": {
    "collapsed": true
   },
   "outputs": [],
   "source": []
  }
 ],
 "metadata": {
  "kernelspec": {
   "display_name": "Python 3",
   "language": "python",
   "name": "python3"
  },
  "language_info": {
   "codemirror_mode": {
    "name": "ipython",
    "version": 3
   },
   "file_extension": ".py",
   "mimetype": "text/x-python",
   "name": "python",
   "nbconvert_exporter": "python",
   "pygments_lexer": "ipython3",
   "version": "3.6.2"
  }
 },
 "nbformat": 4,
 "nbformat_minor": 2
}
