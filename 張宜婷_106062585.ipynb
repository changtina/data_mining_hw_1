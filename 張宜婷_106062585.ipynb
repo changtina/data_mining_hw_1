{
 "cells": [
  {
   "cell_type": "markdown",
   "metadata": {},
   "source": [
    "### Student Information\n",
    "#### Name:張宜婷\n",
    "#### Student ID:106062585"
   ]
  },
  {
   "cell_type": "code",
   "execution_count": 1,
   "metadata": {
    "collapsed": true
   },
   "outputs": [],
   "source": [
    "import pandas as pd\n",
    "import numpy as np\n",
    "import nltk\n",
    "from sklearn.datasets import fetch_20newsgroups\n",
    "from sklearn.feature_extraction.text import CountVectorizer\n",
    "import plotly.plotly as py\n",
    "import plotly.graph_objs as go\n",
    "import math\n",
    "import helpers.data_mining_helpers as dmh\n",
    "import helpers.text_analysis as ta\n",
    "\n",
    "import matplotlib.pyplot as plt\n",
    "from collections import Counter"
   ]
  },
  {
   "cell_type": "code",
   "execution_count": 2,
   "metadata": {
    "collapsed": true
   },
   "outputs": [],
   "source": [
    "def tokenize_text(text, remove_stopwords=False):\n",
    "    \"\"\" Tokenize text using the nltk library \"\"\"\n",
    "    tokens = []\n",
    "    for d in nltk.sent_tokenize(text, language='english'):\n",
    "        for word in nltk.word_tokenize(d, language='english'):\n",
    "            # filters here\n",
    "            tokens.append(word)\n",
    "    return tokens"
   ]
  },
  {
   "cell_type": "markdown",
   "metadata": {},
   "source": [
    "### Data Preparation "
   ]
  },
  {
   "cell_type": "code",
   "execution_count": 3,
   "metadata": {
    "collapsed": true
   },
   "outputs": [],
   "source": [
    "dataset_name = ['yelp', 'imdb', 'amazon_cells']"
   ]
  },
  {
   "cell_type": "code",
   "execution_count": 4,
   "metadata": {},
   "outputs": [],
   "source": [
    "path_name = 'sentiment labelled sentences/'\n",
    "df = {}\n",
    "for name in dataset_name:\n",
    "    txt_name = path_name + name + '_labelled.txt'\n",
    "    df[name] = pd.read_csv(txt_name, delimiter='\\t', names=['text', 'label'])    "
   ]
  },
  {
   "cell_type": "markdown",
   "metadata": {
    "collapsed": true
   },
   "source": [
    "##### data size"
   ]
  },
  {
   "cell_type": "code",
   "execution_count": 5,
   "metadata": {},
   "outputs": [
    {
     "name": "stdout",
     "output_type": "stream",
     "text": [
      "len of dataset yelp : 1000\n",
      "len of dataset imdb : 748\n",
      "len of dataset amazon_cells : 1000\n"
     ]
    }
   ],
   "source": [
    "for name in dataset_name:\n",
    "      print('len of dataset', name, ':', len(df[name]))"
   ]
  },
  {
   "cell_type": "markdown",
   "metadata": {},
   "source": [
    "##### dataset overview"
   ]
  },
  {
   "cell_type": "code",
   "execution_count": 6,
   "metadata": {},
   "outputs": [
    {
     "name": "stdout",
     "output_type": "stream",
     "text": [
      "\n",
      "dataset yelp\n",
      "                                                text  label\n",
      "0                           Wow... Loved this place.      1\n",
      "1                                 Crust is not good.      0\n",
      "2          Not tasty and the texture was just nasty.      0\n",
      "3  Stopped by during the late May bank holiday of...      1\n",
      "4  The selection on the menu was great and so wer...      1\n",
      "\n",
      "dataset imdb\n",
      "                                                text  label\n",
      "0  A very, very, very slow-moving, aimless movie ...      0\n",
      "1  Not sure who was more lost - the flat characte...      0\n",
      "2  Attempting artiness with black & white and cle...      0\n",
      "3       Very little music or anything to speak of.        0\n",
      "4  The best scene in the movie was when Gerardo i...      1\n",
      "\n",
      "dataset amazon_cells\n",
      "                                                text  label\n",
      "0  So there is no way for me to plug it in here i...      0\n",
      "1                        Good case, Excellent value.      1\n",
      "2                             Great for the jawbone.      1\n",
      "3  Tied to charger for conversations lasting more...      0\n",
      "4                                  The mic is great.      1\n"
     ]
    }
   ],
   "source": [
    "for name in dataset_name:\n",
    "    print('\\ndataset', name)\n",
    "    print(df[name][:5])"
   ]
  },
  {
   "cell_type": "code",
   "execution_count": 7,
   "metadata": {},
   "outputs": [
    {
     "name": "stdout",
     "output_type": "stream",
     "text": [
      "\n",
      "dataset yelp text\n",
      "0                             Wow... Loved this place.\n",
      "1                                   Crust is not good.\n",
      "2            Not tasty and the texture was just nasty.\n",
      "3    Stopped by during the late May bank holiday of...\n",
      "4    The selection on the menu was great and so wer...\n",
      "Name: text, dtype: object\n",
      "\n",
      "dataset imdb text\n",
      "0    A very, very, very slow-moving, aimless movie ...\n",
      "1    Not sure who was more lost - the flat characte...\n",
      "2    Attempting artiness with black & white and cle...\n",
      "3         Very little music or anything to speak of.  \n",
      "4    The best scene in the movie was when Gerardo i...\n",
      "Name: text, dtype: object\n",
      "\n",
      "dataset amazon_cells text\n",
      "0    So there is no way for me to plug it in here i...\n",
      "1                          Good case, Excellent value.\n",
      "2                               Great for the jawbone.\n",
      "3    Tied to charger for conversations lasting more...\n",
      "4                                    The mic is great.\n",
      "Name: text, dtype: object\n"
     ]
    }
   ],
   "source": [
    "for name in dataset_name:\n",
    "    print('\\ndataset', name, 'text')\n",
    "    print(df[name]['text'][:5])"
   ]
  },
  {
   "cell_type": "code",
   "execution_count": 8,
   "metadata": {},
   "outputs": [
    {
     "name": "stdout",
     "output_type": "stream",
     "text": [
      "\n",
      "dataset yelp label\n",
      "0    1\n",
      "1    0\n",
      "2    0\n",
      "3    1\n",
      "4    1\n",
      "Name: label, dtype: int64\n",
      "\n",
      "dataset imdb label\n",
      "0    0\n",
      "1    0\n",
      "2    0\n",
      "3    0\n",
      "4    1\n",
      "Name: label, dtype: int64\n",
      "\n",
      "dataset amazon_cells label\n",
      "0    0\n",
      "1    1\n",
      "2    1\n",
      "3    0\n",
      "4    1\n",
      "Name: label, dtype: int64\n"
     ]
    }
   ],
   "source": [
    "for name in dataset_name:\n",
    "    print('\\ndataset', name, 'label')\n",
    "    print(df[name]['label'][:5])"
   ]
  },
  {
   "cell_type": "markdown",
   "metadata": {},
   "source": [
    "#### last 10 records "
   ]
  },
  {
   "cell_type": "code",
   "execution_count": 9,
   "metadata": {},
   "outputs": [
    {
     "name": "stdout",
     "output_type": "stream",
     "text": [
      "\n",
      "dataset yelp\n",
      "                                                  text  label\n",
      "989  I would avoid this place if you are staying in...      0\n",
      "990  The refried beans that came with my meal were ...      0\n",
      "991         Spend your money and time some place else.      0\n",
      "992  A lady at the table next to us found a live gr...      0\n",
      "993            the presentation of the food was awful.      0\n",
      "994           I can't tell you how disappointed I was.      0\n",
      "995  I think food should have flavor and texture an...      0\n",
      "996                           Appetite instantly gone.      0\n",
      "997  Overall I was not impressed and would not go b...      0\n",
      "998  The whole experience was underwhelming, and I ...      0\n",
      "\n",
      "dataset imdb\n",
      "                                                  text  label\n",
      "737  :) Anyway, the plot flowed smoothly and the ma...      1\n",
      "738  The opening sequence of this gem is a classic,...      1\n",
      "739             Fans of the genre will be in heaven.        1\n",
      "740                Lange had become a great actress.        1\n",
      "741                It looked like a wonderful story.        1\n",
      "742            I never walked out of a movie faster.        0\n",
      "743  I just got bored watching Jessice Lange take h...      0\n",
      "744  Unfortunately, any virtue in this film's produ...      0\n",
      "745                   In a word, it is embarrassing.        0\n",
      "746                               Exceptionally bad!        0\n",
      "\n",
      "dataset amazon_cells\n",
      "                                                  text  label\n",
      "989  The text messaging feature is really tricky to...      0\n",
      "990  I'm really disappointed all I have now is a ch...      0\n",
      "991                                Painful on the ear.      0\n",
      "992                   Lasted one day and then blew up.      0\n",
      "993                                      disappointed.      0\n",
      "994                              Kind of flops around.      0\n",
      "995  The screen does get smudged easily because it ...      0\n",
      "996  What a piece of junk.. I lose more calls on th...      0\n",
      "997                       Item Does Not Match Picture.      0\n",
      "998  The only thing that disappoint me is the infra...      0\n"
     ]
    }
   ],
   "source": [
    "for name in dataset_name:\n",
    "    print('\\ndataset', name)\n",
    "    print(df[name][-11:-1])"
   ]
  },
  {
   "cell_type": "code",
   "execution_count": 10,
   "metadata": {},
   "outputs": [
    {
     "name": "stdout",
     "output_type": "stream",
     "text": [
      "\n",
      "dataset yelp\n",
      "                                                 text  label\n",
      "0                            Wow... Loved this place.      1\n",
      "10                           Service was very prompt.      1\n",
      "20                                The Burrittos Blah!      0\n",
      "30  Also there are combos like a burger, fries, an...      1\n",
      "40                       The shrimp tender and moist.      1\n",
      "50  We ordered the duck rare and it was pink and t...      1\n",
      "60  At least think to refill my water before I str...      0\n",
      "70  The deal included 5 tastings and 2 drinks, and...      1\n",
      "80  Coming here is like experiencing an underwhelm...      0\n",
      "90  In summary, this was a largely disappointing d...      0\n",
      "\n",
      "dataset imdb\n",
      "                                                 text  label\n",
      "0   A very, very, very slow-moving, aimless movie ...      0\n",
      "10               And those baby owls were adorable.        1\n",
      "20  This if the first movie I've given a 10 to in ...      1\n",
      "30                      The problem was the script.        0\n",
      "40  Frankly, after Cotton club and Unfaithful, it ...      0\n",
      "50  The directing and the cinematography aren't qu...      0\n",
      "60  The movie had you on the edge of your seat and...      1\n",
      "70  There were several moments in the movie that j...      0\n",
      "80  All the pretty pictures in the world cannot ma...      0\n",
      "90  Also, it's a real treat to see Anthony Quinn p...      1\n",
      "\n",
      "dataset amazon_cells\n",
      "                                                 text  label\n",
      "0   So there is no way for me to plug it in here i...      0\n",
      "10                    And the sound quality is great.      1\n",
      "20  I went on Motorola's website and followed all ...      0\n",
      "30  This is a simple little phone to use, but the ...      0\n",
      "40  It has a great camera thats 2MP, and the pics ...      1\n",
      "50  Not loud enough and doesn't turn on like it sh...      0\n",
      "60  Essentially you can forget Microsoft's tech su...      0\n",
      "70                                  Mic Doesn't work.      0\n",
      "80      I wear it everyday and it holds up very well.      1\n",
      "90  For a product that costs as much as this one d...      0\n"
     ]
    }
   ],
   "source": [
    "for name in dataset_name:\n",
    "    print('\\ndataset', name)\n",
    "    print(df[name].iloc[::10, :][0:10])"
   ]
  },
  {
   "cell_type": "markdown",
   "metadata": {},
   "source": [
    "###### Exercise 0: Experiment with other querying techniques using pandas dataframes. Refer to the their documentation for more information."
   ]
  },
  {
   "cell_type": "code",
   "execution_count": null,
   "metadata": {
    "collapsed": true
   },
   "outputs": [],
   "source": []
  },
  {
   "cell_type": "markdown",
   "metadata": {},
   "source": [
    "#### missing value amount"
   ]
  },
  {
   "cell_type": "code",
   "execution_count": 11,
   "metadata": {},
   "outputs": [
    {
     "name": "stdout",
     "output_type": "stream",
     "text": [
      "yelp : 0\n",
      "imdb : 0\n",
      "amazon_cells : 0\n"
     ]
    }
   ],
   "source": [
    "for name in dataset_name:\n",
    "    print(name, ':', sum(df[name].text.isnull()))"
   ]
  },
  {
   "cell_type": "markdown",
   "metadata": {},
   "source": [
    "####  duplicated amount"
   ]
  },
  {
   "cell_type": "code",
   "execution_count": 12,
   "metadata": {},
   "outputs": [
    {
     "name": "stdout",
     "output_type": "stream",
     "text": [
      "yelp : 4\n",
      "imdb : 3\n",
      "amazon_cells : 10\n"
     ]
    }
   ],
   "source": [
    "for name in dataset_name:\n",
    "    print(name, ':', sum(df[name].text.duplicated()))"
   ]
  },
  {
   "cell_type": "markdown",
   "metadata": {},
   "source": [
    "#### show duplicated data"
   ]
  },
  {
   "cell_type": "code",
   "execution_count": 13,
   "metadata": {},
   "outputs": [
    {
     "name": "stdout",
     "output_type": "stream",
     "text": [
      "\n",
      "dataset yelp\n",
      "                                  text  label\n",
      "814                 I love this place.      1\n",
      "816             The food was terrible.      0\n",
      "843                   I won't be back.      0\n",
      "846  I would not recommend this place.      0\n",
      "\n",
      "dataset imdb\n",
      "                                 text  label\n",
      "165  Definitely worth checking out.        1\n",
      "387                Not recommended.        0\n",
      "590                           10/10        1\n",
      "\n",
      "dataset amazon_cells\n",
      "                                                  text  label\n",
      "285                                      Great phone!.      1\n",
      "407                                       Works great.      1\n",
      "524                                      Works great!.      1\n",
      "543                            Don't buy this product.      0\n",
      "744  If you like a loud buzzing to override all you...      0\n",
      "748                                      Does not fit.      0\n",
      "778                              This is a great deal.      1\n",
      "792                                       Great Phone.      1\n",
      "892                   Excellent product for the price.      1\n",
      "896                                       Great phone.      1\n"
     ]
    }
   ],
   "source": [
    "for name in dataset_name:\n",
    "    print('\\ndataset', name)\n",
    "    dataset = df[name]\n",
    "    print(dataset[dataset.text.duplicated()])"
   ]
  },
  {
   "cell_type": "code",
   "execution_count": 14,
   "metadata": {},
   "outputs": [
    {
     "name": "stdout",
     "output_type": "stream",
     "text": [
      "\n",
      "dataset: yelp (text, times)\n",
      "I love this place. 2\n",
      "The food was terrible. 2\n",
      "I won't be back. 2\n",
      "I would not recommend this place. 2\n",
      "\n",
      "dataset: imdb (text, times)\n",
      "Definitely worth checking out.   2\n",
      "Not recommended.   2\n",
      "10/10   2\n",
      "\n",
      "dataset: amazon_cells (text, times)\n",
      "Great phone!. 2\n",
      "Works great. 2\n",
      "Works great!. 2\n",
      "Don't buy this product. 2\n",
      "If you like a loud buzzing to override all your conversations, then this phone is for you! 2\n",
      "Does not fit. 2\n",
      "This is a great deal. 2\n",
      "Great Phone. 2\n",
      "Excellent product for the price. 2\n",
      "Great phone. 2\n"
     ]
    }
   ],
   "source": [
    "for name in dataset_name:\n",
    "    print('\\ndataset:', name, '(text, times)')\n",
    "    dataset = df[name]\n",
    "    duplicated_text = dataset[dataset.text.duplicated()]\n",
    "    duplicated_text = list(duplicated_text['text'])\n",
    "    for text in duplicated_text:\n",
    "        print(text, sum(dataset['text']==text))"
   ]
  },
  {
   "cell_type": "code",
   "execution_count": 15,
   "metadata": {},
   "outputs": [
    {
     "name": "stdout",
     "output_type": "stream",
     "text": [
      "\n",
      "dataset: yelp\n",
      "original data size: 1000\n",
      "data size after drop duplicates: 992\n",
      "\n",
      "dataset: imdb\n",
      "original data size: 748\n",
      "data size after drop duplicates: 742\n",
      "\n",
      "dataset: amazon_cells\n",
      "original data size: 1000\n",
      "data size after drop duplicates: 980\n"
     ]
    }
   ],
   "source": [
    "for name in dataset_name:\n",
    "    print('\\ndataset:', name)\n",
    "    print('original data size:', len(df[name]))\n",
    "    df[name].drop_duplicates(keep=False, inplace=True)\n",
    "    print('data size after drop duplicates:', len(df[name]))"
   ]
  },
  {
   "cell_type": "markdown",
   "metadata": {},
   "source": [
    "#### Date preprocessing"
   ]
  },
  {
   "cell_type": "code",
   "execution_count": 16,
   "metadata": {},
   "outputs": [
    {
     "data": {
      "text/plain": [
       "500"
      ]
     },
     "execution_count": 16,
     "metadata": {},
     "output_type": "execute_result"
    }
   ],
   "source": [
    "df_sample = df['yelp'].sample(n=500)\n",
    "len(df_sample)"
   ]
  },
  {
   "cell_type": "code",
   "execution_count": 17,
   "metadata": {},
   "outputs": [
    {
     "data": {
      "text/html": [
       "<div>\n",
       "<style>\n",
       "    .dataframe thead tr:only-child th {\n",
       "        text-align: right;\n",
       "    }\n",
       "\n",
       "    .dataframe thead th {\n",
       "        text-align: left;\n",
       "    }\n",
       "\n",
       "    .dataframe tbody tr th {\n",
       "        vertical-align: top;\n",
       "    }\n",
       "</style>\n",
       "<table border=\"1\" class=\"dataframe\">\n",
       "  <thead>\n",
       "    <tr style=\"text-align: right;\">\n",
       "      <th></th>\n",
       "      <th>text</th>\n",
       "      <th>label</th>\n",
       "    </tr>\n",
       "  </thead>\n",
       "  <tbody>\n",
       "    <tr>\n",
       "      <th>592</th>\n",
       "      <td>OMG I felt like I had never eaten Thai food un...</td>\n",
       "      <td>1</td>\n",
       "    </tr>\n",
       "    <tr>\n",
       "      <th>210</th>\n",
       "      <td>If that bug never showed up I would have given...</td>\n",
       "      <td>0</td>\n",
       "    </tr>\n",
       "    <tr>\n",
       "      <th>24</th>\n",
       "      <td>So they performed.</td>\n",
       "      <td>1</td>\n",
       "    </tr>\n",
       "    <tr>\n",
       "      <th>59</th>\n",
       "      <td>The ripped banana was not only ripped, but pet...</td>\n",
       "      <td>0</td>\n",
       "    </tr>\n",
       "  </tbody>\n",
       "</table>\n",
       "</div>"
      ],
      "text/plain": [
       "                                                  text  label\n",
       "592  OMG I felt like I had never eaten Thai food un...      1\n",
       "210  If that bug never showed up I would have given...      0\n",
       "24                                  So they performed.      1\n",
       "59   The ripped banana was not only ripped, but pet...      0"
      ]
     },
     "execution_count": 17,
     "metadata": {},
     "output_type": "execute_result"
    }
   ],
   "source": [
    "df_sample[0:4]"
   ]
  },
  {
   "cell_type": "code",
   "execution_count": 18,
   "metadata": {},
   "outputs": [
    {
     "data": {
      "text/html": [
       "<iframe id=\"igraph\" scrolling=\"no\" style=\"border:none;\" seamless=\"seamless\" src=\"https://plot.ly/~tinachang/2.embed\" height=\"525px\" width=\"100%\"></iframe>"
      ],
      "text/plain": [
       "<plotly.tools.PlotlyDisplay object>"
      ]
     },
     "execution_count": 18,
     "metadata": {},
     "output_type": "execute_result"
    }
   ],
   "source": [
    "data = [go.Histogram(x = np.array(df_sample.label), xbins = dict(size = 0.2))]\n",
    "layout = go.Layout(title = 'yelp Sampled Results',\n",
    "                   xaxis = dict(title = 'Value'),\n",
    "                   yaxis = dict(title = 'Count', range=[220, 280]),\n",
    "                   bargap = 0.5,\n",
    "                   bargroupgap = 0.5)\n",
    "fig = go.Figure(data = data, layout = layout)\n",
    "py.iplot(fig, filename = '')"
   ]
  },
  {
   "cell_type": "markdown",
   "metadata": {},
   "source": [
    "##### Exercise 2: We can also do a side by side comparison of the distribution between the two datasets, but maybe you can try that as an excerise. Look at the Plotly documents for tons of examples and ways to visualizing groups bar charts. "
   ]
  },
  {
   "cell_type": "code",
   "execution_count": 19,
   "metadata": {},
   "outputs": [
    {
     "data": {
      "text/html": [
       "<iframe id=\"igraph\" scrolling=\"no\" style=\"border:none;\" seamless=\"seamless\" src=\"https://plot.ly/~tinachang/24.embed\" height=\"525px\" width=\"100%\"></iframe>"
      ],
      "text/plain": [
       "<plotly.tools.PlotlyDisplay object>"
      ]
     },
     "execution_count": 19,
     "metadata": {},
     "output_type": "execute_result"
    }
   ],
   "source": [
    "trace1 = go.Histogram(x = np.array(df[dataset_name[0]].label),\n",
    "                      histnorm = 'count',\n",
    "                      name = 'yelp',\n",
    "                      marker = dict(color = '#39cc6e'),\n",
    "                      opacity = 0.75)\n",
    "trace2 = go.Histogram(x = np.array(df[dataset_name[1]].label),\n",
    "                      name = 'imdb',\n",
    "                      marker = dict(color = '#69db9e'),\n",
    "                      opacity = 0.75)\n",
    "trace3 = go.Histogram(x = np.array(df[dataset_name[2]].label),\n",
    "                      name = 'amazon',\n",
    "                      marker = dict(color = '#8ef2cf'),\n",
    "                      opacity = 0.75)\n",
    "data = [trace1, trace2, trace3]\n",
    "layout = go.Layout(title = 'labels distribution',\n",
    "                   xaxis = dict(title = 'Value'),\n",
    "                   yaxis = dict(title = 'Count'),\n",
    "                   bargap = 0.3,\n",
    "                   bargroupgap = 0.5)\n",
    "fig = go.Figure(data = data, layout=layout)\n",
    "py.iplot(fig, filename = 'styled histogram')"
   ]
  },
  {
   "cell_type": "markdown",
   "metadata": {},
   "source": [
    "##### plot with matplotlib"
   ]
  },
  {
   "cell_type": "code",
   "execution_count": 20,
   "metadata": {},
   "outputs": [
    {
     "data": {
      "image/png": "[encoded data removed]",
      "text/plain": [
       "<matplotlib.figure.Figure at 0x7f5c320eb9e8>"
      ]
     },
     "metadata": {},
     "output_type": "display_data"
    }
   ],
   "source": [
    "df_sample.label.value_counts().plot(kind=\"bar\", rot=0)\n",
    "plt.xlabel('label')\n",
    "plt.ylabel('Count')\n",
    "plt.ylim([220, 270])\n",
    "plt.title('Distribution of Smaple Data lebel')\n",
    "plt.show()"
   ]
  },
  {
   "cell_type": "code",
   "execution_count": null,
   "metadata": {
    "collapsed": true
   },
   "outputs": [],
   "source": []
  },
  {
   "cell_type": "code",
   "execution_count": 21,
   "metadata": {},
   "outputs": [
    {
     "ename": "KeyError",
     "evalue": "'text'",
     "output_type": "error",
     "traceback": [
      "\u001b[0;31m---------------------------------------------------------------------------\u001b[0m",
      "\u001b[0;31mKeyError\u001b[0m                                  Traceback (most recent call last)",
      "\u001b[0;32m<ipython-input-21-595205b08138>\u001b[0m in \u001b[0;36m<module>\u001b[0;34m()\u001b[0m\n\u001b[0;32m----> 1\u001b[0;31m \u001b[0mdf\u001b[0m\u001b[0;34m[\u001b[0m\u001b[0;34m'unigrams'\u001b[0m\u001b[0;34m]\u001b[0m \u001b[0;34m=\u001b[0m \u001b[0mdf\u001b[0m\u001b[0;34m[\u001b[0m\u001b[0;34m'text'\u001b[0m\u001b[0;34m]\u001b[0m\u001b[0;34m.\u001b[0m\u001b[0mapply\u001b[0m\u001b[0;34m(\u001b[0m\u001b[0;32mlambda\u001b[0m \u001b[0mx\u001b[0m\u001b[0;34m:\u001b[0m \u001b[0mtokenize_text\u001b[0m\u001b[0;34m(\u001b[0m\u001b[0mx\u001b[0m\u001b[0;34m)\u001b[0m\u001b[0;34m)\u001b[0m\u001b[0;34m\u001b[0m\u001b[0m\n\u001b[0m\u001b[1;32m      2\u001b[0m \u001b[0mdf\u001b[0m\u001b[0;34m[\u001b[0m\u001b[0;36m0\u001b[0m\u001b[0;34m:\u001b[0m\u001b[0;36m10\u001b[0m\u001b[0;34m]\u001b[0m\u001b[0;34m[\u001b[0m\u001b[0;34m\"unigrams\"\u001b[0m\u001b[0;34m]\u001b[0m\u001b[0;34m\u001b[0m\u001b[0m\n",
      "\u001b[0;31mKeyError\u001b[0m: 'text'"
     ]
    }
   ],
   "source": [
    "df['unigrams'] = df['text'].apply(lambda x: tokenize_text(x))\n",
    "df[0:10][\"unigrams\"]"
   ]
  },
  {
   "cell_type": "code",
   "execution_count": null,
   "metadata": {},
   "outputs": [],
   "source": []
  },
  {
   "cell_type": "code",
   "execution_count": null,
   "metadata": {},
   "outputs": [],
   "source": [
    "    count_vect = CountVectorizer()\n",
    "    df_counts = count_vect.fit_transform(df.text)\n",
    "    \n",
    "    analyze = count_vect.build_analyzer()\n",
    "    print(analyze(\" \".join(list(df[4:5].text))))\n",
    "    \n",
    "    print(\" \".join(list(df[4:5].text)))\n",
    "    \n",
    "    print('shape of this matrix:', df_counts.shape)\n",
    "    \n",
    "    print('the feature names of the vectorizer\\n', count_vect.get_feature_names()[0:10])"
   ]
  },
  {
   "cell_type": "code",
   "execution_count": null,
   "metadata": {
    "collapsed": true
   },
   "outputs": [],
   "source": []
  }
 ],
 "metadata": {
  "kernelspec": {
   "display_name": "Python 3",
   "language": "python",
   "name": "python3"
  },
  "language_info": {
   "codemirror_mode": {
    "name": "ipython",
    "version": 3
   },
   "file_extension": ".py",
   "mimetype": "text/x-python",
   "name": "python",
   "nbconvert_exporter": "python",
   "pygments_lexer": "ipython3",
   "version": "3.6.2"
  }
 },
 "nbformat": 4,
 "nbformat_minor": 2
}
